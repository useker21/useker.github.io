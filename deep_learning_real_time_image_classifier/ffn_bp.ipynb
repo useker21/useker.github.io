{
 "cells": [
  {
   "cell_type": "markdown",
   "id": "3434b2b1",
   "metadata": {},
   "source": [
    "# Implement a Feed-Forward-Network"
   ]
  },
  {
   "cell_type": "code",
   "execution_count": 1,
   "id": "726f644e",
   "metadata": {},
   "outputs": [],
   "source": [
    "from sklearn.datasets import make_moons\n",
    "import matplotlib.pyplot as plt\n",
    "plt.rcParams['figure.figsize'] = (10,8)\n",
    "plt.rcParams[\"font.size\"]= 15\n",
    "import numpy as np\n",
    "from IPython.display import display, Image\n"
   ]
  },
  {
   "cell_type": "code",
   "execution_count": 2,
   "id": "24934a9c",
   "metadata": {},
   "outputs": [],
   "source": [
    "X, y = make_moons(n_samples=50, noise=0.2, random_state=42)"
   ]
  },
  {
   "cell_type": "code",
   "execution_count": 3,
   "id": "d34a9b0e",
   "metadata": {},
   "outputs": [
    {
     "data": {
      "text/plain": [
       "((50, 2), (50,))"
      ]
     },
     "execution_count": 3,
     "metadata": {},
     "output_type": "execute_result"
    }
   ],
   "source": [
    "X.shape, y.shape"
   ]
  },
  {
   "cell_type": "code",
   "execution_count": 4,
   "id": "27646bd5",
   "metadata": {},
   "outputs": [
    {
     "data": {
      "image/png": "[encoded data removed]",
      "text/plain": [
       "<Figure size 720x576 with 1 Axes>"
      ]
     },
     "metadata": {
      "needs_background": "light"
     },
     "output_type": "display_data"
    }
   ],
   "source": [
    "#make a scatterplot of the 2 columns of X\n",
    "#color the data points according to the labels y\n",
    "plt.scatter(X[:,0],X[:,1], c=y)\n",
    "plt.show()"
   ]
  },
  {
   "cell_type": "code",
   "execution_count": 5,
   "id": "b4d0ce4e",
   "metadata": {},
   "outputs": [],
   "source": [
    "def add_bias(X):\n",
    "    ''' It returns the input-NumPy array X with an additional colomn of ones\n",
    "        Parameter X: numpy array \n",
    "    '''\n",
    "    # Create an array of 1 with same number of rows as X\n",
    "    n_rows = X.shape[0]\n",
    "    n_cols = 1\n",
    "    ones = np.ones(shape=(n_rows, n_cols))\n",
    "      \n",
    "    # Add ones to X\n",
    "    X_with_ones = np.hstack((X,ones))\n",
    "    return X_with_ones\n",
    "    "
   ]
  },
  {
   "cell_type": "code",
   "execution_count": 6,
   "id": "d89682b6",
   "metadata": {},
   "outputs": [],
   "source": [
    "#add bias\n",
    "X_with_ones = add_bias(X)"
   ]
  },
  {
   "cell_type": "code",
   "execution_count": 7,
   "id": "edd3a94c",
   "metadata": {},
   "outputs": [
    {
     "data": {
      "text/plain": [
       "(50, 3)"
      ]
     },
     "execution_count": 7,
     "metadata": {},
     "output_type": "execute_result"
    }
   ],
   "source": [
    "X_with_ones.shape"
   ]
  },
  {
   "cell_type": "code",
   "execution_count": 8,
   "id": "686815f1",
   "metadata": {},
   "outputs": [
    {
     "data": {
      "text/plain": [
       "array([[-0.15856989,  0.98480618,  1.        ],\n",
       "       [ 1.10900374, -0.62160223,  1.        ],\n",
       "       [ 0.39641523,  0.20740869,  1.        ],\n",
       "       [ 1.79239122,  0.07511293,  1.        ],\n",
       "       [-0.84739307,  0.71154296,  1.        ],\n",
       "       [ 1.90209657,  0.67432213,  1.        ],\n",
       "       [ 0.0731551 ,  0.09079042,  1.        ],\n",
       "       [-0.43566685,  0.29122072,  1.        ],\n",
       "       [ 0.42577731, -0.22851359,  1.        ],\n",
       "       [-0.64418143,  0.24144478,  1.        ],\n",
       "       [ 0.11289285,  1.00510013,  1.        ],\n",
       "       [ 0.96066405,  0.63183812,  1.        ],\n",
       "       [ 1.46814927, -0.28580296,  1.        ],\n",
       "       [ 0.5192833 ,  0.94984582,  1.        ],\n",
       "       [ 0.73327397,  0.17310931,  1.        ],\n",
       "       [ 0.33197143,  0.43375035,  1.        ],\n",
       "       [ 1.62726102, -0.54736954,  1.        ],\n",
       "       [ 2.01908805,  0.37804882,  1.        ],\n",
       "       [ 2.00824323,  0.36058988,  1.        ],\n",
       "       [-0.56195047,  0.90148197,  1.        ],\n",
       "       [ 0.67647169,  0.69909987,  1.        ],\n",
       "       [-0.30999892,  1.2113287 ,  1.        ],\n",
       "       [-0.90842298, -0.33685748,  1.        ],\n",
       "       [ 0.68268561, -0.44010332,  1.        ],\n",
       "       [ 0.38645217, -0.05988231,  1.        ],\n",
       "       [ 0.84405962, -0.16877927,  1.        ],\n",
       "       [ 1.76324657, -0.30187296,  1.        ],\n",
       "       [ 0.06417199,  0.2184967 ,  1.        ],\n",
       "       [ 1.02670564, -0.57104358,  1.        ],\n",
       "       [ 0.63694378,  0.69355004,  1.        ],\n",
       "       [ 0.30851562,  0.4574452 ,  1.        ],\n",
       "       [ 0.45511029,  1.15619148,  1.        ],\n",
       "       [ 0.92808566, -0.31211878,  1.        ],\n",
       "       [ 0.86938046,  0.06729301,  1.        ],\n",
       "       [-1.22036438,  0.33691393,  1.        ],\n",
       "       [ 1.15845408,  0.21688056,  1.        ],\n",
       "       [ 1.5522982 , -0.27906241,  1.        ],\n",
       "       [ 0.88599761, -0.51707875,  1.        ],\n",
       "       [-0.82146062, -0.13173865,  1.        ],\n",
       "       [ 1.20862244, -0.52520818,  1.        ],\n",
       "       [-0.00317109,  1.55465851,  1.        ],\n",
       "       [-1.18517899,  0.44179591,  1.        ],\n",
       "       [-0.84031891,  0.60434928,  1.        ],\n",
       "       [ 2.06026456,  0.20829662,  1.        ],\n",
       "       [-0.99857307,  0.47070544,  1.        ],\n",
       "       [ 0.43955803,  0.62885547,  1.        ],\n",
       "       [ 1.82610683, -0.09235596,  1.        ],\n",
       "       [-0.34717225,  0.94909281,  1.        ],\n",
       "       [ 0.32352368, -0.16797921,  1.        ],\n",
       "       [ 1.19813072, -0.09653062,  1.        ]])"
      ]
     },
     "execution_count": 8,
     "metadata": {},
     "output_type": "execute_result"
    }
   ],
   "source": [
    "X_with_ones"
   ]
  },
  {
   "cell_type": "code",
   "execution_count": 9,
   "id": "0d4ef274",
   "metadata": {},
   "outputs": [],
   "source": [
    "#random input weights\n",
    "w_in = np.random.rand(3,2) # ---> rand return random within [0, 1)"
   ]
  },
  {
   "cell_type": "code",
   "execution_count": 10,
   "id": "d6275105",
   "metadata": {},
   "outputs": [],
   "source": [
    "#random output weigth\n",
    "w_out = np.random.rand(3,1)"
   ]
  },
  {
   "cell_type": "code",
   "execution_count": 11,
   "id": "813d09aa",
   "metadata": {},
   "outputs": [
    {
     "data": {
      "text/plain": [
       "((3, 2), (3, 1))"
      ]
     },
     "execution_count": 11,
     "metadata": {},
     "output_type": "execute_result"
    }
   ],
   "source": [
    "w_in.shape, w_out.shape"
   ]
  },
  {
   "cell_type": "code",
   "execution_count": 12,
   "id": "6b76de45",
   "metadata": {},
   "outputs": [
    {
     "data": {
      "text/plain": [
       "(50, 2)"
      ]
     },
     "execution_count": 12,
     "metadata": {},
     "output_type": "execute_result"
    }
   ],
   "source": [
    "input_layer_1 = np.dot(X_with_ones, w_in)\n",
    "input_layer_1.shape"
   ]
  },
  {
   "cell_type": "code",
   "execution_count": 13,
   "id": "0ef6e6bb",
   "metadata": {},
   "outputs": [],
   "source": [
    "#write a sigmoid function\n",
    "def sigmoid(z):\n",
    "    '''It returns a NumPy array,\n",
    "       where all of the original values z\n",
    "       have been transformed by the sigmoid function\n",
    "    Parameters:\n",
    "    **********\n",
    "    z: NumPy array\n",
    "    '''\n",
    "    y = 1 / (1 + np.exp(-z))\n",
    "    return y"
   ]
  },
  {
   "cell_type": "code",
   "execution_count": 14,
   "id": "d7a73eed",
   "metadata": {},
   "outputs": [
    {
     "data": {
      "image/png": "[encoded data removed]",
      "text/plain": [
       "<Figure size 720x576 with 1 Axes>"
      ]
     },
     "metadata": {
      "needs_background": "light"
     },
     "output_type": "display_data"
    }
   ],
   "source": [
    "#plot sigmoid function\n",
    "z = np.linspace(-10,10,100)\n",
    "#plt.plot(0,0.5,marker='o')\n",
    "plt.plot(z,sigmoid(z))\n",
    "plt.xlabel('z')\n",
    "plt.ylabel('Activation function sigmoid');"
   ]
  },
  {
   "cell_type": "code",
   "execution_count": 15,
   "id": "cbb4f64c",
   "metadata": {},
   "outputs": [],
   "source": [
    "#test the sigmoid function\n",
    "array = np.array([-10.0, 0.0, 10.0])\n",
    "expected = np.array([0.0, 0.5, 1.0])\n",
    "assert np.all(sigmoid(array).round(2) == expected)"
   ]
  },
  {
   "cell_type": "code",
   "execution_count": 16,
   "id": "fadcfccf",
   "metadata": {},
   "outputs": [
    {
     "data": {
      "text/plain": [
       "array([[0.68720367, 0.7927114 ],\n",
       "       [0.6402197 , 0.75860268],\n",
       "       [0.65235589, 0.76996844],\n",
       "       [0.86324661, 0.88457642],\n",
       "       [0.47242222, 0.67184844],\n",
       "       [0.92244909, 0.92348204],\n",
       "       [0.55440406, 0.71551869],\n",
       "       [0.47769066, 0.67206535],\n",
       "       [0.56770482, 0.72094289],\n",
       "       [0.41778004, 0.63400421],\n",
       "       [0.74338055, 0.82226961],\n",
       "       [0.82371214, 0.86388451],\n",
       "       [0.77117491, 0.83120116],\n",
       "       [0.80249917, 0.85349346],\n",
       "       [0.71505138, 0.80321455],\n",
       "       [0.68305809, 0.78758632],\n",
       "       [0.75686975, 0.82219376],\n",
       "       [0.9110046 , 0.91513839],\n",
       "       [0.90889497, 0.91371167],\n",
       "       [0.5815686 , 0.73583123],\n",
       "       [0.79089788, 0.84619093],\n",
       "       [0.6990587 , 0.8000952 ],\n",
       "       [0.25082188, 0.50190072],\n",
       "       [0.58186269, 0.72752489],\n",
       "       [0.59481797, 0.73711818],\n",
       "       [0.67342647, 0.77915824],\n",
       "       [0.81485968, 0.85530939],\n",
       "       [0.5799771 , 0.73065799],\n",
       "       [0.63240635, 0.75463474],\n",
       "       [0.78377264, 0.842327  ],\n",
       "       [0.68274954, 0.78755018],\n",
       "       [0.82098589, 0.86436041],\n",
       "       [0.66311667, 0.77280824],\n",
       "       [0.72237691, 0.80658585],\n",
       "       [0.31077077, 0.55813762],\n",
       "       [0.79636903, 0.84715449],\n",
       "       [0.78601598, 0.83936198],\n",
       "       [0.61210085, 0.74382   ],\n",
       "       [0.30358587, 0.54868631],\n",
       "       [0.68055689, 0.78103141],\n",
       "       [0.80818597, 0.8589524 ],\n",
       "       [0.33840862, 0.58018808],\n",
       "       [0.4505797 , 0.65763576],\n",
       "       [0.90161606, 0.90859909],\n",
       "       [0.38530451, 0.61396534],\n",
       "       [0.73935561, 0.81836272],\n",
       "       [0.84899975, 0.87562905],\n",
       "       [0.64011612, 0.76767585],\n",
       "       [0.55688411, 0.71522812],\n",
       "       [0.75488372, 0.82323087]])"
      ]
     },
     "execution_count": 16,
     "metadata": {},
     "output_type": "execute_result"
    }
   ],
   "source": [
    "#apply sigmoid function on step1\n",
    "#output from the neurons of the hidden layer\n",
    "out1 = sigmoid(input_layer_1)\n",
    "out1.shape\n",
    "out1"
   ]
  },
  {
   "cell_type": "code",
   "execution_count": 17,
   "id": "b78a06c1",
   "metadata": {},
   "outputs": [
    {
     "data": {
      "text/plain": [
       "(50, 3)"
      ]
     },
     "execution_count": 17,
     "metadata": {},
     "output_type": "execute_result"
    }
   ],
   "source": [
    "hidden_1 = add_bias(out1)\n",
    "hidden_1.shape"
   ]
  },
  {
   "cell_type": "code",
   "execution_count": 18,
   "id": "b9c2d9b8",
   "metadata": {},
   "outputs": [
    {
     "data": {
      "text/plain": [
       "array([[0.68720367, 0.7927114 , 1.        ],\n",
       "       [0.6402197 , 0.75860268, 1.        ],\n",
       "       [0.65235589, 0.76996844, 1.        ],\n",
       "       [0.86324661, 0.88457642, 1.        ],\n",
       "       [0.47242222, 0.67184844, 1.        ],\n",
       "       [0.92244909, 0.92348204, 1.        ],\n",
       "       [0.55440406, 0.71551869, 1.        ],\n",
       "       [0.47769066, 0.67206535, 1.        ],\n",
       "       [0.56770482, 0.72094289, 1.        ],\n",
       "       [0.41778004, 0.63400421, 1.        ],\n",
       "       [0.74338055, 0.82226961, 1.        ],\n",
       "       [0.82371214, 0.86388451, 1.        ],\n",
       "       [0.77117491, 0.83120116, 1.        ],\n",
       "       [0.80249917, 0.85349346, 1.        ],\n",
       "       [0.71505138, 0.80321455, 1.        ],\n",
       "       [0.68305809, 0.78758632, 1.        ],\n",
       "       [0.75686975, 0.82219376, 1.        ],\n",
       "       [0.9110046 , 0.91513839, 1.        ],\n",
       "       [0.90889497, 0.91371167, 1.        ],\n",
       "       [0.5815686 , 0.73583123, 1.        ],\n",
       "       [0.79089788, 0.84619093, 1.        ],\n",
       "       [0.6990587 , 0.8000952 , 1.        ],\n",
       "       [0.25082188, 0.50190072, 1.        ],\n",
       "       [0.58186269, 0.72752489, 1.        ],\n",
       "       [0.59481797, 0.73711818, 1.        ],\n",
       "       [0.67342647, 0.77915824, 1.        ],\n",
       "       [0.81485968, 0.85530939, 1.        ],\n",
       "       [0.5799771 , 0.73065799, 1.        ],\n",
       "       [0.63240635, 0.75463474, 1.        ],\n",
       "       [0.78377264, 0.842327  , 1.        ],\n",
       "       [0.68274954, 0.78755018, 1.        ],\n",
       "       [0.82098589, 0.86436041, 1.        ],\n",
       "       [0.66311667, 0.77280824, 1.        ],\n",
       "       [0.72237691, 0.80658585, 1.        ],\n",
       "       [0.31077077, 0.55813762, 1.        ],\n",
       "       [0.79636903, 0.84715449, 1.        ],\n",
       "       [0.78601598, 0.83936198, 1.        ],\n",
       "       [0.61210085, 0.74382   , 1.        ],\n",
       "       [0.30358587, 0.54868631, 1.        ],\n",
       "       [0.68055689, 0.78103141, 1.        ],\n",
       "       [0.80818597, 0.8589524 , 1.        ],\n",
       "       [0.33840862, 0.58018808, 1.        ],\n",
       "       [0.4505797 , 0.65763576, 1.        ],\n",
       "       [0.90161606, 0.90859909, 1.        ],\n",
       "       [0.38530451, 0.61396534, 1.        ],\n",
       "       [0.73935561, 0.81836272, 1.        ],\n",
       "       [0.84899975, 0.87562905, 1.        ],\n",
       "       [0.64011612, 0.76767585, 1.        ],\n",
       "       [0.55688411, 0.71522812, 1.        ],\n",
       "       [0.75488372, 0.82323087, 1.        ]])"
      ]
     },
     "execution_count": 18,
     "metadata": {},
     "output_type": "execute_result"
    }
   ],
   "source": [
    "hidden_1"
   ]
  },
  {
   "cell_type": "code",
   "execution_count": 19,
   "id": "7d9021e0",
   "metadata": {},
   "outputs": [
    {
     "data": {
      "text/plain": [
       "(3, 1)"
      ]
     },
     "execution_count": 19,
     "metadata": {},
     "output_type": "execute_result"
    }
   ],
   "source": [
    "w_out.shape"
   ]
  },
  {
   "cell_type": "code",
   "execution_count": 20,
   "id": "a9beb24a",
   "metadata": {},
   "outputs": [
    {
     "data": {
      "text/plain": [
       "((50, 3), (3, 1), (50, 1))"
      ]
     },
     "execution_count": 20,
     "metadata": {},
     "output_type": "execute_result"
    }
   ],
   "source": [
    "input_layer_2 = np.dot(hidden_1,w_out)\n",
    "hidden_1.shape, w_out.shape, input_layer_2.shape"
   ]
  },
  {
   "cell_type": "code",
   "execution_count": 21,
   "id": "220645e5",
   "metadata": {},
   "outputs": [
    {
     "data": {
      "text/plain": [
       "array([[0.83732011],\n",
       "       [0.83141039],\n",
       "       [0.833226  ],\n",
       "       [0.85458952],\n",
       "       [0.81303468],\n",
       "       [0.86078433],\n",
       "       [0.82234294],\n",
       "       [0.81334224],\n",
       "       [0.82363316],\n",
       "       [0.80557581],\n",
       "       [0.8430283 ],\n",
       "       [0.85084277],\n",
       "       [0.84522059],\n",
       "       [0.84886988],\n",
       "       [0.83974199],\n",
       "       [0.83658345],\n",
       "       [0.84364911],\n",
       "       [0.85952803],\n",
       "       [0.85930576],\n",
       "       [0.82599188],\n",
       "       [0.84762127],\n",
       "       [0.83865761],\n",
       "       [0.77922849],\n",
       "       [0.82508802],\n",
       "       [0.82680403],\n",
       "       [0.83522967],\n",
       "       [0.84960655],\n",
       "       [0.82533918],\n",
       "       [0.83059544],\n",
       "       [0.84691207],\n",
       "       [0.83656478],\n",
       "       [0.85076712],\n",
       "       [0.83405477],\n",
       "       [0.84043688],\n",
       "       [0.79009684],\n",
       "       [0.84796574],\n",
       "       [0.8467193 ],\n",
       "       [0.82840799],\n",
       "       [0.78846816],\n",
       "       [0.835773  ],\n",
       "       [0.84966332],\n",
       "       [0.79448766],\n",
       "       [0.81018794],\n",
       "       [0.85851885],\n",
       "       [0.801337  ],\n",
       "       [0.84244251],\n",
       "       [0.85310498],\n",
       "       [0.83237979],\n",
       "       [0.8224381 ],\n",
       "       [0.84366179]])"
      ]
     },
     "execution_count": 21,
     "metadata": {},
     "output_type": "execute_result"
    }
   ],
   "source": [
    "out2 = sigmoid(input_layer_2)\n",
    "out2"
   ]
  },
  {
   "cell_type": "code",
   "execution_count": 22,
   "id": "b22af5fc",
   "metadata": {},
   "outputs": [
    {
     "data": {
      "text/plain": [
       "array([0, 1, 1, 1, 0, 1, 1, 1, 1, 0, 0, 0, 1, 0, 0, 0, 1, 1, 1, 0, 0, 0,\n",
       "       0, 1, 1, 0, 1, 1, 1, 0, 1, 0, 1, 0, 0, 0, 1, 1, 0, 1, 0, 0, 0, 1,\n",
       "       0, 0, 1, 0, 1, 1], dtype=int64)"
      ]
     },
     "execution_count": 22,
     "metadata": {},
     "output_type": "execute_result"
    }
   ],
   "source": [
    "y"
   ]
  },
  {
   "cell_type": "markdown",
   "id": "da08169f",
   "metadata": {},
   "source": [
    "## Define a feed forward function"
   ]
  },
  {
   "cell_type": "code",
   "execution_count": 23,
   "id": "4b66c627",
   "metadata": {},
   "outputs": [],
   "source": [
    "def feed_forward(X_input, w_in, w_out):\n",
    "    '''This function calculates the outputs of layer for given X and weights by using feed forward network\n",
    "    '''\n",
    "    #append an extra column of ones for bias\n",
    "    X_input = np.hstack([X_input, np.ones((X_input.shape[0], 1))])\n",
    "    \n",
    "    #multiply the input matrix X with the weights of the first layer\n",
    "    input_layer_1 = np.dot(X_input,w_in)\n",
    "    \n",
    "    #apply the sigmoid function on the result\n",
    "    output1 = sigmoid(input_layer_1)\n",
    "    \n",
    "    #append an extra column of ones to the result\n",
    "    hidden_1 = np.hstack([input_layer_1, np.ones((input_layer_1.shape[0], 1))])\n",
    "    \n",
    "    #multiply the output of the previous step with the weights of the second layer\n",
    "    input_layer_2 = np.dot(hidden_1, w_out)\n",
    "    \n",
    "    #apply the sigmoid function on the result.\n",
    "    output2 = sigmoid(input_layer_2)\n",
    "     \n",
    "    # return all intermediate results\n",
    "    return output1, output2"
   ]
  },
  {
   "cell_type": "code",
   "execution_count": 24,
   "id": "04f77567",
   "metadata": {},
   "outputs": [],
   "source": [
    "output_layer_1, output_layer_2 = feed_forward(X, w_in, w_out)"
   ]
  },
  {
   "cell_type": "code",
   "execution_count": 25,
   "id": "d4378800",
   "metadata": {},
   "outputs": [],
   "source": [
    "def sigmoid_deriv(X):\n",
    "   '''derivative of sigmoid with respect to X'''\n",
    "\n",
    "   return sigmoid(X) * (1-sigmoid(X))"
   ]
  },
  {
   "cell_type": "code",
   "execution_count": 26,
   "id": "68b9909d",
   "metadata": {},
   "outputs": [],
   "source": [
    "def log_loss(y, ypred):\n",
    "    \n",
    "    \"\"\"log is natural logarithm\"\"\"\n",
    "    \n",
    "    return -(y * np.log(ypred) + (1-y) * np.log(1-ypred)) \n",
    "\n",
    "\n",
    "def log_loss_deriv(y, ypred):\n",
    "    \n",
    "    \"\"\"Derivative of log_loss with respect to ypred. \"\"\"\n",
    "   \n",
    "    return -(y/ypred-(1-y)/(1-ypred))"
   ]
  },
  {
   "cell_type": "code",
   "execution_count": 27,
   "id": "a16ba79f",
   "metadata": {},
   "outputs": [
    {
     "data": {
      "text/plain": [
       "53.980427983114886"
      ]
     },
     "execution_count": 27,
     "metadata": {},
     "output_type": "execute_result"
    }
   ],
   "source": [
    "#calculate the loss\n",
    "ytrue = y.reshape(-1,1)\n",
    "log_loss(ytrue, output_layer_2).sum()"
   ]
  },
  {
   "cell_type": "markdown",
   "id": "9e107643",
   "metadata": {},
   "source": [
    "# Backpropagation from Scratch"
   ]
  },
  {
   "cell_type": "code",
   "execution_count": 28,
   "id": "093c9495",
   "metadata": {},
   "outputs": [
    {
     "data": {
      "image/png": "[encoded data removed]",
      "text/plain": [
       "<IPython.core.display.Image object>"
      ]
     },
     "metadata": {},
     "output_type": "display_data"
    }
   ],
   "source": [
    "display(Image(filename='backprop.png'))"
   ]
  },
  {
   "cell_type": "markdown",
   "id": "b72cbadb",
   "metadata": {},
   "source": [
    "## Equation A. Take The Derivative of The Loss Function"
   ]
  },
  {
   "cell_type": "code",
   "execution_count": 29,
   "id": "afb2971c",
   "metadata": {},
   "outputs": [
    {
     "data": {
      "text/plain": [
       "array([[ 9.1255278 ],\n",
       "       [-1.1541376 ],\n",
       "       [-1.14412199],\n",
       "       [-1.04973123],\n",
       "       [ 4.6643096 ],\n",
       "       [-1.02806193],\n",
       "       [-1.20748856],\n",
       "       [-1.27067235],\n",
       "       [-1.19942588],\n",
       "       [ 3.9807664 ],\n",
       "       [11.36886655],\n",
       "       [16.64594609],\n",
       "       [-1.08715407],\n",
       "       [14.94533003],\n",
       "       [ 9.95263919],\n",
       "       [ 8.8813085 ],\n",
       "       [-1.09406268],\n",
       "       [-1.03225971],\n",
       "       [-1.03301303],\n",
       "       [ 6.42016049],\n",
       "       [14.01264254],\n",
       "       [ 9.58182113],\n",
       "       [ 2.50259077],\n",
       "       [-1.19050912],\n",
       "       [-1.18005192],\n",
       "       [ 8.46914633],\n",
       "       [-1.06893862],\n",
       "       [-1.18871702],\n",
       "       [-1.15858686],\n",
       "       [13.53271165],\n",
       "       [-1.12696732],\n",
       "       [16.59177511],\n",
       "       [-1.13997077],\n",
       "       [10.21853757],\n",
       "       [ 2.98528235],\n",
       "       [14.242131  ],\n",
       "       [-1.08078117],\n",
       "       [-1.17088426],\n",
       "       [ 2.90500221],\n",
       "       [-1.13124797],\n",
       "       [15.61428078],\n",
       "       [ 3.22401832],\n",
       "       [ 4.38262914],\n",
       "       [-1.03570759],\n",
       "       [ 3.6615104 ],\n",
       "       [11.08497676],\n",
       "       [-1.05529047],\n",
       "       [ 7.74165785],\n",
       "       [-1.20698159],\n",
       "       [-1.09390616]])"
      ]
     },
     "execution_count": 29,
     "metadata": {},
     "output_type": "execute_result"
    }
   ],
   "source": [
    "#calculate the derivative of loss\n",
    "deriv_log_loss = log_loss_deriv(ytrue, output_layer_2)\n",
    "deriv_log_loss"
   ]
  },
  {
   "cell_type": "markdown",
   "id": "662a1d43",
   "metadata": {},
   "source": [
    "## Equation B. Calculate The Derivative of The Activation Function"
   ]
  },
  {
   "cell_type": "code",
   "execution_count": 30,
   "id": "5dd20b2f",
   "metadata": {},
   "outputs": [
    {
     "data": {
      "text/plain": [
       "array([[0.13621514],\n",
       "       [0.14016715],\n",
       "       [0.13896043],\n",
       "       [0.12426627],\n",
       "       [0.15200929],\n",
       "       [0.11983467],\n",
       "       [0.14609503],\n",
       "       [0.15181664],\n",
       "       [0.14526158],\n",
       "       [0.15662343],\n",
       "       [0.13233158],\n",
       "       [0.12690935],\n",
       "       [0.13082274],\n",
       "       [0.12828981],\n",
       "       [0.13457538],\n",
       "       [0.13671158],\n",
       "       [0.13190529],\n",
       "       [0.12073959],\n",
       "       [0.12089937],\n",
       "       [0.14372929],\n",
       "       [0.12915945],\n",
       "       [0.13531102],\n",
       "       [0.17203145],\n",
       "       [0.14431778],\n",
       "       [0.14319913],\n",
       "       [0.13762107],\n",
       "       [0.12777526],\n",
       "       [0.14415442],\n",
       "       [0.14070665],\n",
       "       [0.12965201],\n",
       "       [0.13672415],\n",
       "       [0.12696243],\n",
       "       [0.13840741],\n",
       "       [0.13410273],\n",
       "       [0.16584382],\n",
       "       [0.12891984],\n",
       "       [0.12978573],\n",
       "       [0.14214819],\n",
       "       [0.16678612],\n",
       "       [0.13725649],\n",
       "       [0.12773556],\n",
       "       [0.16327702],\n",
       "       [0.15378344],\n",
       "       [0.12146423],\n",
       "       [0.15919601],\n",
       "       [0.13273313],\n",
       "       [0.12531687],\n",
       "       [0.13952368],\n",
       "       [0.14603367],\n",
       "       [0.13189657]])"
      ]
     },
     "execution_count": 30,
     "metadata": {},
     "output_type": "execute_result"
    }
   ],
   "source": [
    "hidden_out_with_bias = add_bias(output_layer_1)\n",
    "sig_deriv_1 = sigmoid_deriv(hidden_out_with_bias.dot(w_out))\n",
    "sig_deriv_1"
   ]
  },
  {
   "cell_type": "code",
   "execution_count": 31,
   "id": "9580c633",
   "metadata": {
    "scrolled": true
   },
   "outputs": [
    {
     "name": "stdout",
     "output_type": "stream",
     "text": [
      "(50, 1)\n"
     ]
    }
   ],
   "source": [
    "ygrad_l2 =  sig_deriv_1 * deriv_log_loss\n",
    "print(ygrad_l2.shape)"
   ]
  },
  {
   "cell_type": "markdown",
   "id": "65ab29b7",
   "metadata": {},
   "source": [
    "## Equation C. Calculate Weight Change between 2 Layers"
   ]
  },
  {
   "cell_type": "code",
   "execution_count": 32,
   "id": "8666cf97",
   "metadata": {},
   "outputs": [],
   "source": [
    "#learning rate\n",
    "lr = 0.2"
   ]
  },
  {
   "cell_type": "code",
   "execution_count": 33,
   "id": "e87460d6",
   "metadata": {},
   "outputs": [
    {
     "name": "stdout",
     "output_type": "stream",
     "text": [
      "(1, 3)\n"
     ]
    }
   ],
   "source": [
    "#calculate the gradient of this middle output.\n",
    "delta_w2 = -np.dot(ygrad_l2.transpose(), \n",
    "                   hidden_out_with_bias) * lr\n",
    "print(delta_w2.shape) "
   ]
  },
  {
   "cell_type": "code",
   "execution_count": 34,
   "id": "15d99a38",
   "metadata": {},
   "outputs": [],
   "source": [
    "w_out_new = w_out + delta_w2.transpose()"
   ]
  },
  {
   "cell_type": "code",
   "execution_count": 35,
   "id": "85caae8c",
   "metadata": {},
   "outputs": [
    {
     "data": {
      "text/plain": [
       "array([[-3.39002152],\n",
       "       [-3.49153073],\n",
       "       [-4.58211181]])"
      ]
     },
     "execution_count": 35,
     "metadata": {},
     "output_type": "execute_result"
    }
   ],
   "source": [
    "w_out_new"
   ]
  },
  {
   "cell_type": "markdown",
   "id": "23158596",
   "metadata": {},
   "source": [
    "## Equation D"
   ]
  },
  {
   "cell_type": "code",
   "execution_count": 36,
   "id": "4dcd503d",
   "metadata": {},
   "outputs": [],
   "source": [
    "sig_deriv_2 = sigmoid_deriv(add_bias(X).dot(w_in))\n",
    "\n",
    "# We don't propagate the biases to the \n",
    "# previous level so we took it out.\n",
    "h_grad = sig_deriv_2 * np.dot(ygrad_l2 , w_out[:-1].T)"
   ]
  },
  {
   "cell_type": "code",
   "execution_count": 37,
   "id": "130b8dce",
   "metadata": {},
   "outputs": [
    {
     "name": "stdout",
     "output_type": "stream",
     "text": [
      "(50, 2)\n"
     ]
    }
   ],
   "source": [
    "print(h_grad.shape)"
   ]
  },
  {
   "cell_type": "markdown",
   "id": "d766712f",
   "metadata": {},
   "source": [
    "## Equation E. Calculate Change in First Set of Weights."
   ]
  },
  {
   "cell_type": "code",
   "execution_count": 38,
   "id": "c4822097",
   "metadata": {},
   "outputs": [],
   "source": [
    "delta_w1 = -np.dot(h_grad.transpose(), add_bias(X)) * lr\n",
    "w_in_new = w_in + delta_w1.transpose() "
   ]
  },
  {
   "cell_type": "code",
   "execution_count": 39,
   "id": "7d2affd7",
   "metadata": {},
   "outputs": [
    {
     "data": {
      "text/plain": [
       "array([[ 0.92884882,  0.65220982],\n",
       "       [ 0.60676453,  0.16002226],\n",
       "       [-0.28858454,  0.17305381]])"
      ]
     },
     "execution_count": 39,
     "metadata": {},
     "output_type": "execute_result"
    }
   ],
   "source": [
    "w_in_new"
   ]
  },
  {
   "cell_type": "markdown",
   "id": "87c74a8b",
   "metadata": {},
   "source": [
    "## Define a backpropagation function"
   ]
  },
  {
   "cell_type": "code",
   "execution_count": 40,
   "id": "cbbe0900",
   "metadata": {},
   "outputs": [],
   "source": [
    "def backprop(wH,\n",
    "             wO,\n",
    "             output1,\n",
    "             output2,\n",
    "             ytrue,\n",
    "             X_input,\n",
    "             LR):\n",
    "    '''This function calculates the new weights of hidden and output for given X and weights by using backpropagation\n",
    "    '''\n",
    "   \n",
    "    X_input = np.hstack((X_input, np.ones((X_input.shape[0],1))))\n",
    "  \n",
    "\n",
    "    '''EQUATION A:'''\n",
    "    loss_gradient = log_loss_deriv(ytrue, output2)\n",
    "\n",
    "    '''EQUATION B:'''\n",
    "    # don't forget the bias!\n",
    "    hidden_out_with_bias = add_bias(output1)\n",
    "    # derivative of the sigmoid function with respect to the\n",
    "    # hidden output * weights\n",
    "    sig_deriv_1 = sigmoid_deriv( hidden_out_with_bias.dot(wO) )\n",
    "\n",
    "    y_grad = sig_deriv_1 * loss_gradient\n",
    "\n",
    "    '''EQUATION C:'''\n",
    "    delta_wo = -np.dot( y_grad.transpose(), hidden_out_with_bias ) * LR\n",
    "\n",
    "    #and finally, old weights + delta weights -> new weights!\n",
    "    wO_new = wO + delta_wo.transpose()\n",
    "\n",
    "    '''EQUATION D:'''\n",
    "    sig_deriv_2 = sigmoid_deriv(X_input.dot(wH) )\n",
    "    #exclude the bias (last column) of the outer weights,\n",
    "    #since it is not backpropagated!\n",
    "    H_grad = sig_deriv_2  * np.dot(y_grad , wO[:-1].transpose())\n",
    "\n",
    "    '''EQUATION E:'''\n",
    "    delta_wH = -np.dot(H_grad.transpose(),X_input) * LR\n",
    "\n",
    "    #old weights + delta weights -> new weights!\n",
    "    wH_new = wH + delta_wH.transpose()\n",
    "\n",
    "    # new hidden weights, new output weights\n",
    "    return wH_new, wO_new"
   ]
  },
  {
   "cell_type": "code",
   "execution_count": 42,
   "id": "74bc525d",
   "metadata": {},
   "outputs": [],
   "source": [
    "# train\n",
    "LOSS_VEC = []\n",
    "\n",
    "for i in range(1000):\n",
    "    out1, out2 = feed_forward(X, w_in, w_out)\n",
    "    LOSS_VEC.append(log_loss(ytrue, out2).sum())\n",
    "    w_in_new , w_out_new = backprop(\n",
    "                            w_in,\n",
    "                            w_out,\n",
    "                            output_layer_1,\n",
    "                            output_layer_2,\n",
    "                            ytrue,\n",
    "                            X,\n",
    "                            lr,\n",
    "                           )\n",
    "    w_in  = w_in_new\n",
    "    w_out = w_out_new"
   ]
  },
  {
   "cell_type": "code",
   "execution_count": 43,
   "id": "4889da0c",
   "metadata": {},
   "outputs": [
    {
     "data": {
      "image/png": "[encoded data removed]",
      "text/plain": [
       "<Figure size 720x576 with 1 Axes>"
      ]
     },
     "metadata": {
      "needs_background": "light"
     },
     "output_type": "display_data"
    }
   ],
   "source": [
    "iteration = []\n",
    "for i in range(1000):\n",
    "    iteration.append(i)\n",
    "    i+=1\n",
    "\n",
    "plt.scatter(iteration,LOSS_VEC)\n",
    "plt.show()"
   ]
  },
  {
   "cell_type": "code",
   "execution_count": 49,
   "id": "195d3167",
   "metadata": {},
   "outputs": [
    {
     "ename": "TypeError",
     "evalue": "backprop() missing 1 required positional argument: 'LR'",
     "output_type": "error",
     "traceback": [
      "\u001b[1;31m---------------------------------------------------------------------------\u001b[0m",
      "\u001b[1;31mTypeError\u001b[0m                                 Traceback (most recent call last)",
      "\u001b[1;32m<ipython-input-49-8932d61668aa>\u001b[0m in \u001b[0;36m<module>\u001b[1;34m\u001b[0m\n\u001b[0;32m     14\u001b[0m     \u001b[0mhidden_out\u001b[0m\u001b[1;33m,\u001b[0m \u001b[0mypred\u001b[0m \u001b[1;33m=\u001b[0m \u001b[0mfeed_forward\u001b[0m\u001b[1;33m(\u001b[0m\u001b[0mX\u001b[0m\u001b[1;33m,\u001b[0m \u001b[0minner_weights\u001b[0m\u001b[1;33m,\u001b[0m\u001b[0mouter_weights\u001b[0m\u001b[1;33m)\u001b[0m\u001b[1;33m\u001b[0m\u001b[1;33m\u001b[0m\u001b[0m\n\u001b[0;32m     15\u001b[0m     \u001b[0mypred\u001b[0m \u001b[1;33m=\u001b[0m \u001b[0mypred\u001b[0m\u001b[1;33m.\u001b[0m\u001b[0mreshape\u001b[0m\u001b[1;33m(\u001b[0m\u001b[1;36m50\u001b[0m\u001b[1;33m)\u001b[0m\u001b[1;33m\u001b[0m\u001b[1;33m\u001b[0m\u001b[0m\n\u001b[1;32m---> 16\u001b[1;33m     \u001b[0mgrad_y\u001b[0m\u001b[1;33m,\u001b[0m \u001b[0mdelta_w\u001b[0m \u001b[1;33m=\u001b[0m \u001b[0mbackprop\u001b[0m\u001b[1;33m(\u001b[0m\u001b[0minner_weights\u001b[0m\u001b[1;33m,\u001b[0m\u001b[0mouter_weights\u001b[0m\u001b[1;33m,\u001b[0m \u001b[0mhidden_out\u001b[0m\u001b[1;33m,\u001b[0m\u001b[0mytrue\u001b[0m\u001b[1;33m,\u001b[0m\u001b[0mX\u001b[0m\u001b[1;33m,\u001b[0m\u001b[0mlr\u001b[0m\u001b[1;33m)\u001b[0m\u001b[1;33m\u001b[0m\u001b[1;33m\u001b[0m\u001b[0m\n\u001b[0m\u001b[0;32m     17\u001b[0m     \u001b[0mouter_weights\u001b[0m \u001b[1;33m=\u001b[0m \u001b[0mouter_weights\u001b[0m\u001b[1;33m.\u001b[0m\u001b[0mreshape\u001b[0m\u001b[1;33m(\u001b[0m\u001b[1;36m3\u001b[0m\u001b[1;33m)\u001b[0m\u001b[1;33m\u001b[0m\u001b[1;33m\u001b[0m\u001b[0m\n\u001b[0;32m     18\u001b[0m     \u001b[0mouter_weights\u001b[0m \u001b[1;33m=\u001b[0m \u001b[0mouter_weights\u001b[0m \u001b[1;33m+\u001b[0m \u001b[0mdelta_w\u001b[0m\u001b[1;33m\u001b[0m\u001b[1;33m\u001b[0m\u001b[0m\n",
      "\u001b[1;31mTypeError\u001b[0m: backprop() missing 1 required positional argument: 'LR'"
     ]
    }
   ],
   "source": [
    "loss_plot = []\n",
    "x = []\n",
    "wh1_li = []\n",
    "wh2_li = []\n",
    "wo1_li = []\n",
    "wo2_li = []\n",
    "losses = []\n",
    "for i in range(30):\n",
    "    if i == 0:\n",
    "        outer_weights = np.random.random(size=(3, 1))\n",
    "        inner_weights = np.random.random(size=(3, 2))\n",
    "        dec_loss = 30\n",
    "    lr = 0.05\n",
    "    hidden_out, ypred = feed_forward(X, inner_weights,outer_weights)\n",
    "    ypred = ypred.reshape(50)\n",
    "    grad_y, delta_w = backprop(inner_weights,outer_weights, hidden_out,ytrue,X,lr)\n",
    "    outer_weights = outer_weights.reshape(3)\n",
    "    outer_weights = outer_weights + delta_w\n",
    "    outer_weights_rs = outer_weights.reshape(1, 3)\n",
    "    grad_y_rs = grad_y.reshape(50, 1)\n",
    "    right_h = np.dot(grad_y_rs, outer_weights_rs)\n",
    "    grad_ho = hidden_out_wb * right_h\n",
    "    grad_ho = grad_ho.reshape(3, 50)\n",
    "    \n",
    "    delta_wi = np.dot(-grad_ho, Xc) * lr\n",
    "    inner_weights = inner_weights + delta_wi\n",
    "    desc_loss = loss(ytrue, ypred).sum()\n",
    "    loss_plot.append(desc_loss)\n",
    "    x.append(i)\n",
    "    print('The new loss is: ', desc_loss)\n",
    "    print('new inner weights are: ', inner_weights)\n",
    "    print('new outer weights are: ', outer_weights)\n",
    "    print('iteration is: ', i)\n",
    "    print('\\n\\n')\n",
    "    losses.append(desc_loss)\n",
    "    ypred[ypred >= 0.5] = 1\n",
    "    ypred[ypred <= 0.5] = 0\n",
    "    ypred = ypred.astype(int)\n",
    "    if i > 10:\n",
    "        plt.scatter(X[:, 0], X[:, 1], c=ypred)\n",
    "        plt.show()\n",
    "        if losses[-10] < losses[i]:\n",
    "            break\n",
    "\n",
    "plt.plot(x, loss_plot)\n",
    "plt.show()"
   ]
  }
 ],
 "metadata": {
  "kernelspec": {
   "display_name": "Python 3",
   "language": "python",
   "name": "python3"
  },
  "language_info": {
   "codemirror_mode": {
    "name": "ipython",
    "version": 3
   },
   "file_extension": ".py",
   "mimetype": "text/x-python",
   "name": "python",
   "nbconvert_exporter": "python",
   "pygments_lexer": "ipython3",
   "version": "3.6.13"
  },
  "toc": {
   "base_numbering": 1,
   "nav_menu": {},
   "number_sections": true,
   "sideBar": true,
   "skip_h1_title": false,
   "title_cell": "Table of Contents",
   "title_sidebar": "Contents",
   "toc_cell": false,
   "toc_position": {},
   "toc_section_display": true,
   "toc_window_display": false
  }
 },
 "nbformat": 4,
 "nbformat_minor": 5
}
