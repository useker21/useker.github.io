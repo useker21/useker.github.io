{
 "cells": [
  {
   "cell_type": "code",
   "execution_count": 1,
   "id": "85387907",
   "metadata": {
    "scrolled": true
   },
   "outputs": [],
   "source": [
    "#import relevant packages and libraies\n",
    "import os\n",
    "import re\n",
    "import cv2\n",
    "import numpy as np\n",
    "from matplotlib import pyplot as plt\n",
    "\n",
    "import warnings\n",
    "warnings.filterwarnings(\"ignore\")\n",
    "\n",
    "import tensorflow.keras as keras\n",
    "from keras.models import load_model\n",
    "from tensorflow.keras.preprocessing.image import load_img\n",
    "from tensorflow.keras.models import Sequential\n",
    "from tensorflow.keras.layers import Conv2D, Dense, MaxPooling2D, Activation, Flatten, Dropout, BatchNormalization, GlobalAveragePooling2D\n",
    "from tensorflow.keras import models, layers\n",
    "from tensorflow.keras import backend as K\n",
    "from tensorflow.keras.utils import to_categorical\n",
    "from tensorflow.keras.optimizers import SGD\n",
    "from tensorflow.keras.utils import to_categorical\n",
    "from keras.models import Model\n",
    "from keras.preprocessing.image import ImageDataGenerator\n",
    "\n",
    "from sklearn.metrics import confusion_matrix,ConfusionMatrixDisplay\n"
   ]
  },
  {
   "cell_type": "code",
   "execution_count": 2,
   "id": "afa852a5",
   "metadata": {},
   "outputs": [],
   "source": [
    "situations = {\n",
    "                'c0': 'Safe driving', \n",
    "                'c1': 'Texting - right', \n",
    "                'c2': 'Talking on the phone - right', \n",
    "                'c3': 'Texting - left', \n",
    "                'c4': 'Talking on the phone - left', \n",
    "                'c5': 'Operating the radio', \n",
    "                'c6': 'Drinking', \n",
    "                'c7': 'Reaching behind', \n",
    "                'c8': 'Hair and makeup', \n",
    "                'c9': 'Talking to passenger'\n",
    "}"
   ]
  },
  {
   "cell_type": "code",
   "execution_count": null,
   "id": "9dcdcdb0",
   "metadata": {},
   "outputs": [
    {
     "name": "stdout",
     "output_type": "stream",
     "text": [
      "we are now in c0 class\n",
      "we are now in c1 class\n",
      "we are now in c2 class\n",
      "we are now in c3 class\n",
      "we are now in c4 class\n",
      "we are now in c5 class\n",
      "we are now in c6 class\n",
      "we are now in c7 class\n"
     ]
    }
   ],
   "source": [
    "X = []\n",
    "y = []\n",
    "classes = ['c0', 'c1', 'c2', 'c3', 'c4', 'c5', 'c6', 'c7', 'c8', 'c9']\n",
    "base_path = './data/train/'\n",
    "\n",
    "for i, target in enumerate(classes):\n",
    "    \n",
    "    files = os.listdir(base_path+target)\n",
    "    \n",
    "    print(f'we are now in {target} class')\n",
    "    \n",
    "    for file in files:\n",
    "        \n",
    "        # load the image\n",
    "        img = load_img(base_path+target + '/' + file, target_size=(224, 224))\n",
    "        \n",
    "        #convert it to an array\n",
    "        img_array = np.array(img)\n",
    "              \n",
    "        # append the array to X\n",
    "        X.append(img_array)\n",
    "        \n",
    "        # append the numeric target to y\n",
    "        y.append(i) \n",
    "        \n",
    "print('finished')"
   ]
  },
  {
   "cell_type": "code",
   "execution_count": null,
   "id": "1216079d",
   "metadata": {},
   "outputs": [],
   "source": [
    "X = np.array(X)\n",
    "y = np.array(y)"
   ]
  },
  {
   "cell_type": "code",
   "execution_count": null,
   "id": "f3789469",
   "metadata": {},
   "outputs": [],
   "source": [
    "# shuffle the data\n",
    "shuffler = np.random.permutation(len(X))\n",
    "X = X[shuffler]\n",
    "y = y[shuffler]"
   ]
  },
  {
   "cell_type": "code",
   "execution_count": null,
   "id": "47e04399",
   "metadata": {},
   "outputs": [],
   "source": [
    "# train-test split\n",
    "from sklearn.model_selection import train_test_split\n",
    "X_train,X_test, y_train, y_test = train_test_split(X, y, test_size=0.20, random_state=42)"
   ]
  },
  {
   "cell_type": "code",
   "execution_count": null,
   "id": "ac4ff10d",
   "metadata": {},
   "outputs": [],
   "source": [
    "#keep a copy of y test as the actual number labels for further process\n",
    "y_test_true = y_test.copy()"
   ]
  },
  {
   "cell_type": "code",
   "execution_count": null,
   "id": "f37bb0fe",
   "metadata": {},
   "outputs": [],
   "source": [
    "#one hot encode the labels\n",
    "y_train = to_categorical(y_train)\n",
    "y_test = to_categorical(y_test)"
   ]
  },
  {
   "cell_type": "code",
   "execution_count": null,
   "id": "a9c95b23",
   "metadata": {},
   "outputs": [],
   "source": [
    "#scaling\n",
    "X_train = X_train.astype('float32')/255"
   ]
  },
  {
   "cell_type": "code",
   "execution_count": null,
   "id": "78a2a827",
   "metadata": {},
   "outputs": [],
   "source": [
    "X_test = X_test.astype('float32')/255"
   ]
  },
  {
   "cell_type": "code",
   "execution_count": null,
   "id": "8a85c2bf",
   "metadata": {},
   "outputs": [],
   "source": [
    "X_train.shape, y_train.shape, X_test.shape, y_test.shape"
   ]
  },
  {
   "cell_type": "markdown",
   "id": "6c030ee4",
   "metadata": {},
   "source": [
    "# CNN"
   ]
  },
  {
   "cell_type": "code",
   "execution_count": null,
   "id": "22cb98a6",
   "metadata": {},
   "outputs": [],
   "source": [
    "#clear session \n",
    "K.clear_session()"
   ]
  },
  {
   "cell_type": "code",
   "execution_count": null,
   "id": "838fabdd",
   "metadata": {},
   "outputs": [],
   "source": [
    "# number of possible label values\n",
    "nb_classes = 10\n",
    "\n",
    "#designing the layers and build model\n",
    "model = Sequential()\n",
    "\n",
    "model.add(Conv2D(32, kernel_size=(3, 3),activation='relu',input_shape=(224,224,3),padding = 'same'))\n",
    "model.add(BatchNormalization())\n",
    "\n",
    "#model.add(Conv2D(32, kernel_size=(3, 3),activation='relu',input_shape=(224,224,3),padding = 'same'))\n",
    "#model.add(BatchNormalization())\n",
    "\n",
    "model.add(MaxPooling2D(pool_size=(2, 2)))\n",
    "\n",
    "model.add(Conv2D(64,kernel_size = (3,3),activation = 'relu',padding = 'same'))\n",
    "model.add(BatchNormalization())\n",
    "\n",
    "#model.add(Conv2D(64,kernel_size = (3,3),activation = 'relu',padding = 'same'))\n",
    "#model.add(BatchNormalization())\n",
    "\n",
    "model.add(Dropout(0.3))\n",
    "model.add(MaxPooling2D(pool_size=(2, 2)))\n",
    "\n",
    "model.add(Conv2D(64,kernel_size = (3,3),activation = 'relu',padding = 'same'))\n",
    "model.add(BatchNormalization())\n",
    "\n",
    "\n",
    "#model.add(Conv2D(64,kernel_size = (3,3),activation = 'relu',padding = 'same'))\n",
    "#model.add(BatchNormalization())\n",
    "\n",
    "\n",
    "model.add(MaxPooling2D(pool_size=(2, 2)))\n",
    "\n",
    "model.add(Conv2D(128,kernel_size = (3,3),activation = 'relu',padding = 'same'))\n",
    "model.add(BatchNormalization())\n",
    "\n",
    "model.add(Flatten())\n",
    "\n",
    "model.add(Dense(128, activation = 'relu'))\n",
    "model.add(Dense(nb_classes, activation='softmax'))"
   ]
  },
  {
   "cell_type": "code",
   "execution_count": null,
   "id": "cefe6e9c",
   "metadata": {
    "scrolled": true
   },
   "outputs": [],
   "source": [
    "#check the summary:\n",
    "model.summary()"
   ]
  },
  {
   "cell_type": "code",
   "execution_count": null,
   "id": "f999d524",
   "metadata": {},
   "outputs": [],
   "source": [
    "#compile the model\n",
    "model.compile(optimizer=SGD(learning_rate=0.001),\n",
    "              loss='categorical_crossentropy',\n",
    "              metrics=['accuracy'])"
   ]
  },
  {
   "cell_type": "code",
   "execution_count": null,
   "id": "149dd18e",
   "metadata": {},
   "outputs": [],
   "source": [
    "#define early stopping for fitting\n",
    "early_stop = keras.callbacks.EarlyStopping(\n",
    "                                            monitor='val_loss', \n",
    "                                            min_delta=0.0005, \n",
    "                                            patience=10,\n",
    "                                            verbose=1, \n",
    "                                            mode='auto',\n",
    "                                           )"
   ]
  },
  {
   "cell_type": "code",
   "execution_count": null,
   "id": "45e3559c",
   "metadata": {
    "scrolled": true
   },
   "outputs": [],
   "source": [
    "datagen = ImageDataGenerator(\n",
    "                            height_shift_range=0.5,\n",
    "                            width_shift_range = 0.5,\n",
    "                            zoom_range = 0.5,\n",
    "                            rotation_range=30\n",
    "                            )\n",
    "#datagen.fit(X_train)\n",
    "data_generator = datagen.flow(X_train, y_train, batch_size = 32)\n",
    "\n",
    "# Fits the model on batches with real-time data augmentation:\n",
    "history = model.fit_generator(\n",
    "                               data_generator,\n",
    "                               steps_per_epoch=len(X_train)/32, \n",
    "                               callbacks=[early_stop],\n",
    "                               epochs = 50,\n",
    "                               validation_data = (X_test, y_test)\n",
    "                              )\n"
   ]
  },
  {
   "cell_type": "code",
   "execution_count": null,
   "id": "55a479bb",
   "metadata": {},
   "outputs": [],
   "source": [
    "model.save('./models/model_cnn_sgd_scaling_full_2.h5')"
   ]
  },
  {
   "cell_type": "code",
   "execution_count": null,
   "id": "fc33aac3",
   "metadata": {},
   "outputs": [],
   "source": [
    "ypred = model.predict(X_test)"
   ]
  },
  {
   "cell_type": "code",
   "execution_count": null,
   "id": "a74fd74a",
   "metadata": {},
   "outputs": [],
   "source": [
    "from pylab import rcParams\n",
    "rcParams['figure.figsize'] = 12,20\n",
    "# have a look at the data\n",
    "for i in range(10):\n",
    "    plt.subplot(5, 2, i+1)\n",
    "    plt.imshow(X_test[i])\n",
    "    plt.axis('off')\n",
    "    plt.title(situations[classes[np.argmax(ypred[i])]]) "
   ]
  },
  {
   "cell_type": "markdown",
   "id": "e7929b9e",
   "metadata": {},
   "source": [
    "# Examine the model"
   ]
  },
  {
   "cell_type": "code",
   "execution_count": null,
   "id": "429eb244",
   "metadata": {},
   "outputs": [],
   "source": [
    "#plot accuracy curve\n",
    "plt.figure(figsize=(8,6))\n",
    "plt.plot(history.history['accuracy'], label='training accuracy')\n",
    "plt.plot(history.history['val_accuracy'], label= 'validation accuracy')\n",
    "\n",
    "plt.xlabel('epochs')\n",
    "plt.ylabel('accuracy')\n",
    "plt.legend()\n"
   ]
  },
  {
   "cell_type": "code",
   "execution_count": null,
   "id": "8e654883",
   "metadata": {},
   "outputs": [],
   "source": [
    "# Plot loss\n",
    "plt.figure(figsize=(8,6))\n",
    "plt.plot(history.history['loss'], label='training loss')\n",
    "plt.plot(history.history['val_loss'], label='validation loss')\n",
    "plt.xlabel('epochs')\n",
    "plt.ylabel('loss')\n",
    "plt.legend()"
   ]
  },
  {
   "cell_type": "code",
   "execution_count": null,
   "id": "87230c96",
   "metadata": {},
   "outputs": [],
   "source": [
    "true_list =[]\n",
    "for i in range(len(y_test_true)):\n",
    "    if np.argmax(ypred[i])==y_test_true[i]:\n",
    "        true_list.append(i)\n",
    "        \n",
    "probability = len(true_list) / len(y_test_true)\n",
    "round(probability,3)"
   ]
  },
  {
   "cell_type": "code",
   "execution_count": null,
   "id": "053893ae",
   "metadata": {},
   "outputs": [],
   "source": [
    "#plot confusion matrix\n",
    "cm = confusion_matrix(y_true=y_test_true, y_pred=np.argmax(ypred, axis=1))\n",
    "\n",
    "disp = ConfusionMatrixDisplay(confusion_matrix=cm,\n",
    "                             display_labels=classes)\n",
    "fig, ax = plt.subplots(figsize=(10,10))\n",
    "\n",
    "disp.plot(ax=ax);"
   ]
  },
  {
   "cell_type": "code",
   "execution_count": null,
   "id": "cd3594e9",
   "metadata": {
    "scrolled": true
   },
   "outputs": [],
   "source": [
    "from pylab import rcParams\n",
    "rcParams['figure.figsize'] = 12,20\n",
    "# have a look at the data\n",
    "for i in range(10):\n",
    "    plt.subplot(5, 2, i+1)\n",
    "    plt.imshow(X_test[i])\n",
    "    plt.axis('off')\n",
    "    plt.title(situations[classes[np.argmax(ypred[i])]]) "
   ]
  },
  {
   "cell_type": "code",
   "execution_count": null,
   "id": "9716a6d9",
   "metadata": {},
   "outputs": [],
   "source": [
    "history.history"
   ]
  },
  {
   "cell_type": "code",
   "execution_count": null,
   "id": "d5ba4537",
   "metadata": {},
   "outputs": [],
   "source": [
    "history_x = {'loss': [0.6788745522499084,\n",
    "  0.09309027343988419,\n",
    "  0.04502665624022484,\n",
    "  0.028193367645144463,\n",
    "  0.01988980919122696,\n",
    "  0.015026142820715904,\n",
    "  0.01297104824334383,\n",
    "  0.010552069172263145,\n",
    "  0.009022541344165802,\n",
    "  0.008177461102604866,\n",
    "  0.007196308579295874,\n",
    "  0.006253139581531286,\n",
    "  0.005592679604887962,\n",
    "  0.005200664512813091,\n",
    "  0.0048648216761648655,\n",
    "  0.004325977526605129,\n",
    "  0.004437521565705538,\n",
    "  0.0038987549487501383,\n",
    "  0.003602318000048399,\n",
    "  0.0035539239179342985,\n",
    "  0.0031619674991816282,\n",
    "  0.0031310778576880693,\n",
    "  0.0030073411762714386,\n",
    "  0.0027063859160989523,\n",
    "  0.0028454300481826067,\n",
    "  0.0026335103902965784,\n",
    "  0.0024933728855103254,\n",
    "  0.0023065018467605114,\n",
    "  0.002182203810662031,\n",
    "  0.0021467802580446005,\n",
    "  0.0021780335810035467,\n",
    "  0.0019917781464755535,\n",
    "  0.0020393950399011374,\n",
    "  0.0018913195235654712,\n",
    "  0.0018716666381806135,\n",
    "  0.001779830316081643,\n",
    "  0.0017926986329257488,\n",
    "  0.0017754330765455961,\n",
    "  0.0016076870961114764,\n",
    "  0.001544486847706139,\n",
    "  0.0016306579345837235,\n",
    "  0.0014818470226600766,\n",
    "  0.0014596282271668315,\n",
    "  0.0014299782924354076,\n",
    "  0.0013975645415484905,\n",
    "  0.001439416198991239,\n",
    "  0.0013373905094340444,\n",
    "  0.001357017899863422,\n",
    "  0.0012831803178414702,\n",
    "  0.0012083920883014798],\n",
    " 'accuracy': [0.802437961101532,\n",
    "  0.9842426180839539,\n",
    "  0.994945764541626,\n",
    "  0.9979188442230225,\n",
    "  0.9986621141433716,\n",
    "  0.9994797110557556,\n",
    "  0.9994053840637207,\n",
    "  0.9996283650398254,\n",
    "  0.9996283650398254,\n",
    "  1.0,\n",
    "  0.9997770190238953,\n",
    "  0.9998513460159302,\n",
    "  1.0,\n",
    "  0.9999256730079651,\n",
    "  0.9999256730079651,\n",
    "  1.0,\n",
    "  0.9998513460159302,\n",
    "  1.0,\n",
    "  1.0,\n",
    "  1.0,\n",
    "  1.0,\n",
    "  1.0,\n",
    "  1.0,\n",
    "  1.0,\n",
    "  1.0,\n",
    "  1.0,\n",
    "  1.0,\n",
    "  1.0,\n",
    "  1.0,\n",
    "  1.0,\n",
    "  1.0,\n",
    "  1.0,\n",
    "  1.0,\n",
    "  1.0,\n",
    "  1.0,\n",
    "  1.0,\n",
    "  1.0,\n",
    "  1.0,\n",
    "  1.0,\n",
    "  1.0,\n",
    "  1.0,\n",
    "  1.0,\n",
    "  1.0,\n",
    "  1.0,\n",
    "  1.0,\n",
    "  1.0,\n",
    "  1.0,\n",
    "  1.0,\n",
    "  1.0,\n",
    "  1.0],\n",
    " 'val_loss': [2.4285008907318115,\n",
    "  0.5887197256088257,\n",
    "  0.1103152334690094,\n",
    "  0.073394276201725,\n",
    "  0.06286414712667465,\n",
    "  0.05797842517495155,\n",
    "  0.057778436690568924,\n",
    "  0.04893775284290314,\n",
    "  0.08751919120550156,\n",
    "  0.04422752931714058,\n",
    "  0.042050883173942566,\n",
    "  0.040523283183574677,\n",
    "  0.041227638721466064,\n",
    "  0.039321884512901306,\n",
    "  0.03771194815635681,\n",
    "  0.035737045109272,\n",
    "  0.036077626049518585,\n",
    "  0.036514002829790115,\n",
    "  0.0332961343228817,\n",
    "  0.033254560083150864,\n",
    "  0.032514166086912155,\n",
    "  0.03254510462284088,\n",
    "  0.03128845989704132,\n",
    "  0.030809486284852028,\n",
    "  0.03277873992919922,\n",
    "  0.030335091054439545,\n",
    "  0.030178410932421684,\n",
    "  0.030333690345287323,\n",
    "  0.030870309099555016,\n",
    "  0.02990068681538105,\n",
    "  0.02908347360789776,\n",
    "  0.02898188680410385,\n",
    "  0.02818087860941887,\n",
    "  0.027558594942092896,\n",
    "  0.027215182781219482,\n",
    "  0.027875814586877823,\n",
    "  0.0267275869846344,\n",
    "  0.027197787538170815,\n",
    "  0.027168041095137596,\n",
    "  0.026311203837394714,\n",
    "  0.02606181986629963,\n",
    "  0.02639640122652054,\n",
    "  0.025416001677513123,\n",
    "  0.026084549725055695,\n",
    "  0.025617264211177826,\n",
    "  0.02574216015636921,\n",
    "  0.025612205266952515,\n",
    "  0.025226403027772903,\n",
    "  0.0251119676977396,\n",
    "  0.02525498904287815],\n",
    " 'val_accuracy': [0.2729097008705139,\n",
    "  0.8276476860046387,\n",
    "  0.9839465022087097,\n",
    "  0.9875139594078064,\n",
    "  0.9899665713310242,\n",
    "  0.9897435903549194,\n",
    "  0.9899665713310242,\n",
    "  0.9919732213020325,\n",
    "  0.9797101616859436,\n",
    "  0.9917502999305725,\n",
    "  0.9933110475540161,\n",
    "  0.9928650856018066,\n",
    "  0.9930880665779114,\n",
    "  0.9933110475540161,\n",
    "  0.9937569499015808,\n",
    "  0.9937569499015808,\n",
    "  0.9933110475540161,\n",
    "  0.9933110475540161,\n",
    "  0.9935340285301208,\n",
    "  0.9939799308776855,\n",
    "  0.9939799308776855,\n",
    "  0.9937569499015808,\n",
    "  0.9939799308776855,\n",
    "  0.9939799308776855,\n",
    "  0.9935340285301208,\n",
    "  0.9935340285301208,\n",
    "  0.9937569499015808,\n",
    "  0.9942029118537903,\n",
    "  0.9939799308776855,\n",
    "  0.9937569499015808,\n",
    "  0.9939799308776855,\n",
    "  0.9942029118537903,\n",
    "  0.994425892829895,\n",
    "  0.994425892829895,\n",
    "  0.9948717951774597,\n",
    "  0.994425892829895,\n",
    "  0.9948717951774597,\n",
    "  0.9948717951774597,\n",
    "  0.994648814201355,\n",
    "  0.994648814201355,\n",
    "  0.994425892829895,\n",
    "  0.9948717951774597,\n",
    "  0.9948717951774597,\n",
    "  0.9950947761535645,\n",
    "  0.9950947761535645,\n",
    "  0.9950947761535645,\n",
    "  0.9950947761535645,\n",
    "  0.9953176975250244,\n",
    "  0.9950947761535645,\n",
    "  0.9950947761535645]}"
   ]
  }
 ],
 "metadata": {
  "kernelspec": {
   "display_name": "Python 3",
   "language": "python",
   "name": "python3"
  },
  "language_info": {
   "codemirror_mode": {
    "name": "ipython",
    "version": 3
   },
   "file_extension": ".py",
   "mimetype": "text/x-python",
   "name": "python",
   "nbconvert_exporter": "python",
   "pygments_lexer": "ipython3",
   "version": "3.6.13"
  },
  "toc": {
   "base_numbering": 1,
   "nav_menu": {},
   "number_sections": true,
   "sideBar": true,
   "skip_h1_title": false,
   "title_cell": "Table of Contents",
   "title_sidebar": "Contents",
   "toc_cell": false,
   "toc_position": {},
   "toc_section_display": true,
   "toc_window_display": false
  }
 },
 "nbformat": 4,
 "nbformat_minor": 5
}
