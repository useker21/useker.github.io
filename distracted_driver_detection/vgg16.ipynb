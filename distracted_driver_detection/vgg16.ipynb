{
 "cells": [
  {
   "cell_type": "code",
   "execution_count": 1,
   "metadata": {
    "execution": {
     "iopub.execute_input": "2022-06-08T21:41:25.070951Z",
     "iopub.status.busy": "2022-06-08T21:41:25.070204Z",
     "iopub.status.idle": "2022-06-08T21:41:30.737408Z",
     "shell.execute_reply": "2022-06-08T21:41:30.736268Z",
     "shell.execute_reply.started": "2022-06-08T21:41:25.070881Z"
    },
    "scrolled": true
   },
   "outputs": [],
   "source": [
    "#import relevant packages and libraies\n",
    "import os\n",
    "import re\n",
    "import cv2\n",
    "import numpy as np\n",
    "from matplotlib import pyplot as plt\n",
    "\n",
    "import warnings\n",
    "warnings.filterwarnings(\"ignore\")\n",
    "\n",
    "import tensorflow.keras as keras\n",
    "from keras.models import load_model\n",
    "from tensorflow.keras.preprocessing.image import load_img\n",
    "from tensorflow.keras.models import Sequential\n",
    "from tensorflow.keras.layers import Conv2D, Dense, MaxPooling2D, Activation, Flatten, Dropout, BatchNormalization, GlobalAveragePooling2D\n",
    "from tensorflow.keras import models, layers\n",
    "from tensorflow.keras import backend as K\n",
    "from tensorflow.keras.utils import to_categorical\n",
    "from tensorflow.keras.optimizers import SGD\n",
    "from tensorflow.keras.utils import to_categorical\n",
    "from keras.models import Model\n",
    "from tensorflow.keras.applications import mobilenet_v2, vgg16\n",
    "from keras.preprocessing.image import ImageDataGenerator\n",
    "\n",
    "\n",
    "from sklearn.metrics import confusion_matrix,ConfusionMatrixDisplay\n"
   ]
  },
  {
   "cell_type": "code",
   "execution_count": 2,
   "metadata": {
    "execution": {
     "iopub.execute_input": "2022-06-08T21:41:30.757971Z",
     "iopub.status.busy": "2022-06-08T21:41:30.754330Z",
     "iopub.status.idle": "2022-06-08T21:41:30.768616Z",
     "shell.execute_reply": "2022-06-08T21:41:30.767229Z",
     "shell.execute_reply.started": "2022-06-08T21:41:30.757921Z"
    }
   },
   "outputs": [],
   "source": [
    "situations = {\n",
    "                'c0': 'Safe driving', \n",
    "                'c1': 'Texting - right', \n",
    "                'c2': 'Talking on the phone - right', \n",
    "                'c3': 'Texting - left', \n",
    "                'c4': 'Talking on the phone - left', \n",
    "                'c5': 'Operating the radio', \n",
    "                'c6': 'Drinking', \n",
    "                'c7': 'Reaching behind', \n",
    "                'c8': 'Hair and makeup', \n",
    "                'c9': 'Talking to passenger'\n",
    "}"
   ]
  },
  {
   "cell_type": "code",
   "execution_count": 3,
   "metadata": {
    "execution": {
     "iopub.execute_input": "2022-06-08T21:41:30.778218Z",
     "iopub.status.busy": "2022-06-08T21:41:30.775116Z",
     "iopub.status.idle": "2022-06-08T21:44:48.280041Z",
     "shell.execute_reply": "2022-06-08T21:44:48.278866Z",
     "shell.execute_reply.started": "2022-06-08T21:41:30.778135Z"
    }
   },
   "outputs": [],
   "source": [
    "X = []\n",
    "y = []\n",
    "classes = ['c0', 'c1', 'c2', 'c3', 'c4', 'c5', 'c6', 'c7', 'c8', 'c9']\n",
    "base_path = '../input/state-farm-distracted-driver-detection/imgs/train/'\n",
    "\n",
    "for i, target in enumerate(classes):\n",
    "    \n",
    "    files = os.listdir(base_path+target)\n",
    "    \n",
    "    print(f'we are now in {target} class')\n",
    "    \n",
    "    for file in files:\n",
    "        \n",
    "        # load the image\n",
    "        img = load_img(base_path+target + '/' + file, target_size=(224, 224))\n",
    "        \n",
    "        #convert it to an array\n",
    "        img_array = np.array(img)\n",
    "              \n",
    "        # append the array to X\n",
    "        X.append(img_array)\n",
    "        \n",
    "        # append the numeric target to y\n",
    "        y.append(i) \n",
    "        \n",
    "print('finished')"
   ]
  },
  {
   "cell_type": "code",
   "execution_count": 4,
   "metadata": {
    "execution": {
     "iopub.execute_input": "2022-06-08T21:44:48.285480Z",
     "iopub.status.busy": "2022-06-08T21:44:48.283792Z",
     "iopub.status.idle": "2022-06-08T21:44:49.772837Z",
     "shell.execute_reply": "2022-06-08T21:44:49.771711Z",
     "shell.execute_reply.started": "2022-06-08T21:44:48.285430Z"
    }
   },
   "outputs": [],
   "source": [
    "X = np.array(X)\n",
    "y = np.array(y)"
   ]
  },
  {
   "cell_type": "code",
   "execution_count": 5,
   "metadata": {
    "execution": {
     "iopub.execute_input": "2022-06-08T21:44:49.775680Z",
     "iopub.status.busy": "2022-06-08T21:44:49.774306Z",
     "iopub.status.idle": "2022-06-08T21:44:51.041387Z",
     "shell.execute_reply": "2022-06-08T21:44:51.040243Z",
     "shell.execute_reply.started": "2022-06-08T21:44:49.775617Z"
    }
   },
   "outputs": [],
   "source": [
    "# shuffle the data\n",
    "shuffler = np.random.permutation(len(X))\n",
    "X = X[shuffler]\n",
    "y = y[shuffler]"
   ]
  },
  {
   "cell_type": "code",
   "execution_count": 6,
   "metadata": {
    "execution": {
     "iopub.execute_input": "2022-06-08T21:44:51.043742Z",
     "iopub.status.busy": "2022-06-08T21:44:51.043269Z",
     "iopub.status.idle": "2022-06-08T21:44:52.251973Z",
     "shell.execute_reply": "2022-06-08T21:44:52.250830Z",
     "shell.execute_reply.started": "2022-06-08T21:44:51.043692Z"
    }
   },
   "outputs": [],
   "source": [
    "# train-test split\n",
    "from sklearn.model_selection import train_test_split\n",
    "X_train_sample, X_test_sample, y_train_sample, y_test_sample = train_test_split(X, y, test_size=0.90)"
   ]
  },
  {
   "cell_type": "code",
   "execution_count": 7,
   "metadata": {
    "execution": {
     "iopub.execute_input": "2022-06-08T21:44:52.254428Z",
     "iopub.status.busy": "2022-06-08T21:44:52.253794Z",
     "iopub.status.idle": "2022-06-08T21:44:52.347270Z",
     "shell.execute_reply": "2022-06-08T21:44:52.346048Z",
     "shell.execute_reply.started": "2022-06-08T21:44:52.254378Z"
    }
   },
   "outputs": [],
   "source": [
    "X_train,X_test, y_train, y_test = train_test_split(X_train_sample,y_train_sample, test_size=0.20)"
   ]
  },
  {
   "cell_type": "code",
   "execution_count": 8,
   "metadata": {
    "execution": {
     "iopub.execute_input": "2022-06-08T21:44:52.349797Z",
     "iopub.status.busy": "2022-06-08T21:44:52.348989Z",
     "iopub.status.idle": "2022-06-08T21:44:52.355742Z",
     "shell.execute_reply": "2022-06-08T21:44:52.354429Z",
     "shell.execute_reply.started": "2022-06-08T21:44:52.349751Z"
    }
   },
   "outputs": [],
   "source": [
    "#keep a copy of y test as the actual number labels for further process\n",
    "y_test_true = y_test.copy()"
   ]
  },
  {
   "cell_type": "code",
   "execution_count": 9,
   "metadata": {
    "execution": {
     "iopub.execute_input": "2022-06-08T21:44:52.358245Z",
     "iopub.status.busy": "2022-06-08T21:44:52.357395Z",
     "iopub.status.idle": "2022-06-08T21:44:52.368094Z",
     "shell.execute_reply": "2022-06-08T21:44:52.367056Z",
     "shell.execute_reply.started": "2022-06-08T21:44:52.358194Z"
    }
   },
   "outputs": [],
   "source": [
    "#one hot encode the labels\n",
    "y_train = to_categorical(y_train)\n",
    "y_test = to_categorical(y_test)"
   ]
  },
  {
   "cell_type": "code",
   "execution_count": 10,
   "metadata": {
    "execution": {
     "iopub.execute_input": "2022-06-08T21:44:52.371218Z",
     "iopub.status.busy": "2022-06-08T21:44:52.369692Z",
     "iopub.status.idle": "2022-06-08T21:44:53.359773Z",
     "shell.execute_reply": "2022-06-08T21:44:53.358551Z",
     "shell.execute_reply.started": "2022-06-08T21:44:52.371138Z"
    }
   },
   "outputs": [],
   "source": [
    "#scaling\n",
    "X_train = X_train.astype('float32')/255"
   ]
  },
  {
   "cell_type": "code",
   "execution_count": 11,
   "metadata": {
    "execution": {
     "iopub.execute_input": "2022-06-08T21:44:53.362288Z",
     "iopub.status.busy": "2022-06-08T21:44:53.361722Z",
     "iopub.status.idle": "2022-06-08T21:44:53.454927Z",
     "shell.execute_reply": "2022-06-08T21:44:53.453739Z",
     "shell.execute_reply.started": "2022-06-08T21:44:53.362238Z"
    }
   },
   "outputs": [],
   "source": [
    "X_test = X_test.astype('float32')/255"
   ]
  },
  {
   "cell_type": "code",
   "execution_count": 12,
   "metadata": {
    "execution": {
     "iopub.execute_input": "2022-06-08T21:44:53.457825Z",
     "iopub.status.busy": "2022-06-08T21:44:53.457081Z",
     "iopub.status.idle": "2022-06-08T21:44:53.469936Z",
     "shell.execute_reply": "2022-06-08T21:44:53.468527Z",
     "shell.execute_reply.started": "2022-06-08T21:44:53.457777Z"
    }
   },
   "outputs": [],
   "source": [
    "X_train.shape, y_train.shape, X_test.shape, y_test.shape"
   ]
  },
  {
   "cell_type": "markdown",
   "metadata": {},
   "source": [
    "# VGG16"
   ]
  },
  {
   "cell_type": "code",
   "execution_count": 13,
   "metadata": {
    "execution": {
     "iopub.execute_input": "2022-06-08T21:44:53.476757Z",
     "iopub.status.busy": "2022-06-08T21:44:53.476135Z",
     "iopub.status.idle": "2022-06-08T21:44:53.488815Z",
     "shell.execute_reply": "2022-06-08T21:44:53.487658Z",
     "shell.execute_reply.started": "2022-06-08T21:44:53.476710Z"
    }
   },
   "outputs": [],
   "source": [
    "#clear session \n",
    "K.clear_session()"
   ]
  },
  {
   "cell_type": "code",
   "execution_count": 14,
   "metadata": {
    "execution": {
     "iopub.execute_input": "2022-06-08T21:44:53.491147Z",
     "iopub.status.busy": "2022-06-08T21:44:53.490310Z",
     "iopub.status.idle": "2022-06-08T21:44:54.954442Z",
     "shell.execute_reply": "2022-06-08T21:44:54.953334Z",
     "shell.execute_reply.started": "2022-06-08T21:44:53.491097Z"
    }
   },
   "outputs": [],
   "source": [
    "# number of possible label values\n",
    "nb_classes = 10\n",
    "\n",
    "## Defining the input\n",
    "\n",
    "from keras.layers import Input\n",
    "vgg16_input = Input(shape = (224,224,3), name = 'Image_input')\n",
    "\n",
    "#designing the layers and build model\n",
    "base_model = vgg16.VGG16(weights='imagenet', include_top=False, input_tensor = vgg16_input)\n",
    "\n",
    "output = base_model(vgg16_input)\n",
    "\n",
    "x = Flatten(name='flatten')(output)\n",
    "\n",
    "from keras.models import Model\n",
    "\n",
    "x = Dense(nb_classes, activation='softmax', name='predictions')(x)\n",
    "\n",
    "model = Model(inputs=vgg16_input, outputs=x)\n",
    "\n"
   ]
  },
  {
   "cell_type": "code",
   "execution_count": 15,
   "metadata": {
    "execution": {
     "iopub.execute_input": "2022-06-08T21:44:54.956653Z",
     "iopub.status.busy": "2022-06-08T21:44:54.956170Z",
     "iopub.status.idle": "2022-06-08T21:44:54.966036Z",
     "shell.execute_reply": "2022-06-08T21:44:54.964471Z",
     "shell.execute_reply.started": "2022-06-08T21:44:54.956607Z"
    },
    "scrolled": true
   },
   "outputs": [],
   "source": [
    "#check the summary:\n",
    "model.summary()"
   ]
  },
  {
   "cell_type": "code",
   "execution_count": 16,
   "metadata": {
    "execution": {
     "iopub.execute_input": "2022-06-08T21:44:54.969088Z",
     "iopub.status.busy": "2022-06-08T21:44:54.967607Z",
     "iopub.status.idle": "2022-06-08T21:44:54.990858Z",
     "shell.execute_reply": "2022-06-08T21:44:54.989676Z",
     "shell.execute_reply.started": "2022-06-08T21:44:54.969043Z"
    }
   },
   "outputs": [],
   "source": [
    "#compile the model\n",
    "model.compile(optimizer=SGD(learning_rate=0.001),\n",
    "              loss='categorical_crossentropy',\n",
    "              metrics=['accuracy'])"
   ]
  },
  {
   "cell_type": "code",
   "execution_count": 17,
   "metadata": {
    "execution": {
     "iopub.execute_input": "2022-06-08T21:44:54.993819Z",
     "iopub.status.busy": "2022-06-08T21:44:54.992664Z",
     "iopub.status.idle": "2022-06-08T22:29:41.020968Z",
     "shell.execute_reply": "2022-06-08T22:29:41.019708Z",
     "shell.execute_reply.started": "2022-06-08T21:44:54.993771Z"
    },
    "scrolled": true
   },
   "outputs": [],
   "source": [
    "datagen = ImageDataGenerator(\n",
    "                            height_shift_range=0.5,\n",
    "                            width_shift_range = 0.5,\n",
    "                            zoom_range = 0.5,\n",
    "                            rotation_range=30\n",
    "                            )\n",
    "#datagen.fit(X_train)\n",
    "data_generator = datagen.flow(X_train, y_train, batch_size = 32)\n",
    "\n",
    "# Fits the model on batches with real-time data augmentation:\n",
    "history = model.fit_generator(\n",
    "                               data_generator,\n",
    "                               steps_per_epoch=len(X_train)/32, \n",
    "                               epochs = 100,\n",
    "                               validation_data = (X_test, y_test)\n",
    "                              )"
   ]
  },
  {
   "cell_type": "code",
   "execution_count": 18,
   "metadata": {
    "execution": {
     "iopub.execute_input": "2022-06-08T22:29:41.024880Z",
     "iopub.status.busy": "2022-06-08T22:29:41.024362Z",
     "iopub.status.idle": "2022-06-08T22:29:41.203381Z",
     "shell.execute_reply": "2022-06-08T22:29:41.202048Z",
     "shell.execute_reply.started": "2022-06-08T22:29:41.024833Z"
    }
   },
   "outputs": [],
   "source": [
    "model.save('model_vgg16.h5')"
   ]
  },
  {
   "cell_type": "code",
   "execution_count": 19,
   "metadata": {
    "execution": {
     "iopub.execute_input": "2022-06-08T22:29:41.205830Z",
     "iopub.status.busy": "2022-06-08T22:29:41.205134Z",
     "iopub.status.idle": "2022-06-08T22:29:42.390518Z",
     "shell.execute_reply": "2022-06-08T22:29:42.389493Z",
     "shell.execute_reply.started": "2022-06-08T22:29:41.205787Z"
    }
   },
   "outputs": [],
   "source": [
    "ypred = model.predict(X_test)"
   ]
  },
  {
   "cell_type": "code",
   "execution_count": 20,
   "metadata": {
    "execution": {
     "iopub.execute_input": "2022-06-08T22:29:42.392982Z",
     "iopub.status.busy": "2022-06-08T22:29:42.392471Z",
     "iopub.status.idle": "2022-06-08T22:29:43.360691Z",
     "shell.execute_reply": "2022-06-08T22:29:43.358273Z",
     "shell.execute_reply.started": "2022-06-08T22:29:42.392937Z"
    }
   },
   "outputs": [],
   "source": [
    "from pylab import rcParams\n",
    "rcParams['figure.figsize'] = 12,20\n",
    "# have a look at the data\n",
    "for i in range(10):\n",
    "    plt.subplot(5, 2, i+1)\n",
    "    plt.imshow(X_test[i])\n",
    "    plt.axis('off')\n",
    "    plt.title(situations[classes[np.argmax(ypred[i])]]) "
   ]
  },
  {
   "cell_type": "markdown",
   "metadata": {},
   "source": [
    "# Examine the model"
   ]
  },
  {
   "cell_type": "code",
   "execution_count": 21,
   "metadata": {
    "execution": {
     "iopub.execute_input": "2022-06-08T22:29:43.363985Z",
     "iopub.status.busy": "2022-06-08T22:29:43.362481Z",
     "iopub.status.idle": "2022-06-08T22:29:43.766757Z",
     "shell.execute_reply": "2022-06-08T22:29:43.759287Z",
     "shell.execute_reply.started": "2022-06-08T22:29:43.363932Z"
    }
   },
   "outputs": [],
   "source": [
    "#plot accuracy curve\n",
    "plt.figure(figsize=(8,6))\n",
    "plt.plot(history.history['accuracy'], label='training accuracy')\n",
    "plt.plot(history.history['val_accuracy'], label= 'validation accuracy')\n",
    "\n",
    "plt.xlabel('epochs')\n",
    "plt.ylabel('accuracy')\n",
    "plt.legend()\n"
   ]
  },
  {
   "cell_type": "code",
   "execution_count": 22,
   "metadata": {
    "execution": {
     "iopub.execute_input": "2022-06-08T22:29:43.772931Z",
     "iopub.status.busy": "2022-06-08T22:29:43.772407Z",
     "iopub.status.idle": "2022-06-08T22:29:44.083202Z",
     "shell.execute_reply": "2022-06-08T22:29:44.082140Z",
     "shell.execute_reply.started": "2022-06-08T22:29:43.772885Z"
    }
   },
   "outputs": [],
   "source": [
    "# Plot loss\n",
    "plt.figure(figsize=(8,6))\n",
    "plt.plot(history.history['loss'], label='training loss')\n",
    "plt.plot(history.history['val_loss'], label='validation loss')\n",
    "plt.xlabel('epochs')\n",
    "plt.ylabel('loss')\n",
    "plt.legend()"
   ]
  },
  {
   "cell_type": "code",
   "execution_count": 23,
   "metadata": {
    "execution": {
     "iopub.execute_input": "2022-06-08T22:29:44.091086Z",
     "iopub.status.busy": "2022-06-08T22:29:44.088231Z",
     "iopub.status.idle": "2022-06-08T22:29:44.109742Z",
     "shell.execute_reply": "2022-06-08T22:29:44.108451Z",
     "shell.execute_reply.started": "2022-06-08T22:29:44.091037Z"
    }
   },
   "outputs": [],
   "source": [
    "true_list =[]\n",
    "for i in range(len(y_test_true)):\n",
    "    if np.argmax(ypred[i])==y_test_true[i]:\n",
    "        true_list.append(i)\n",
    "        \n",
    "probability = len(true_list) / len(y_test_true)\n",
    "round(probability,3)"
   ]
  },
  {
   "cell_type": "code",
   "execution_count": 24,
   "metadata": {
    "execution": {
     "iopub.execute_input": "2022-06-08T22:29:44.118038Z",
     "iopub.status.busy": "2022-06-08T22:29:44.115086Z",
     "iopub.status.idle": "2022-06-08T22:29:44.834304Z",
     "shell.execute_reply": "2022-06-08T22:29:44.833119Z",
     "shell.execute_reply.started": "2022-06-08T22:29:44.117987Z"
    }
   },
   "outputs": [],
   "source": [
    "#plot confusion matrix\n",
    "cm = confusion_matrix(y_true=y_test_true, y_pred=np.argmax(ypred, axis=1))\n",
    "\n",
    "disp = ConfusionMatrixDisplay(confusion_matrix=cm,\n",
    "                             display_labels=classes)\n",
    "fig, ax = plt.subplots(figsize=(10,10))\n",
    "\n",
    "disp.plot(ax=ax);"
   ]
  },
  {
   "cell_type": "code",
   "execution_count": 25,
   "metadata": {
    "execution": {
     "iopub.execute_input": "2022-06-08T22:29:44.836773Z",
     "iopub.status.busy": "2022-06-08T22:29:44.836254Z",
     "iopub.status.idle": "2022-06-08T22:29:45.963703Z",
     "shell.execute_reply": "2022-06-08T22:29:45.962166Z",
     "shell.execute_reply.started": "2022-06-08T22:29:44.836728Z"
    },
    "scrolled": true
   },
   "outputs": [],
   "source": [
    "from pylab import rcParams\n",
    "rcParams['figure.figsize'] = 12,20\n",
    "# have a look at the data\n",
    "for i in range(10):\n",
    "    plt.subplot(5, 2, i+1)\n",
    "    plt.imshow(X_test[i])\n",
    "    plt.axis('off')\n",
    "    plt.title(situations[classes[np.argmax(ypred[i])]]) "
   ]
  },
  {
   "cell_type": "code",
   "execution_count": 26,
   "metadata": {
    "execution": {
     "iopub.execute_input": "2022-06-08T22:29:45.966126Z",
     "iopub.status.busy": "2022-06-08T22:29:45.965460Z",
     "iopub.status.idle": "2022-06-08T22:29:45.981265Z",
     "shell.execute_reply": "2022-06-08T22:29:45.980265Z",
     "shell.execute_reply.started": "2022-06-08T22:29:45.966083Z"
    }
   },
   "outputs": [],
   "source": [
    "history.history"
   ]
  },
  {
   "cell_type": "code",
   "execution_count": 28,
   "metadata": {
    "execution": {
     "iopub.execute_input": "2022-06-08T22:34:13.372021Z",
     "iopub.status.busy": "2022-06-08T22:34:13.370890Z",
     "iopub.status.idle": "2022-06-08T22:34:13.415724Z",
     "shell.execute_reply": "2022-06-08T22:34:13.414309Z",
     "shell.execute_reply.started": "2022-06-08T22:34:13.371982Z"
    }
   },
   "outputs": [],
   "source": [
    "history_x = {'loss': [2.4607796669006348,\n",
    "  2.3907833099365234,\n",
    "  2.3278446197509766,\n",
    "  2.316110849380493,\n",
    "  2.304399013519287,\n",
    "  2.3039824962615967,\n",
    "  2.303065299987793,\n",
    "  2.303892135620117,\n",
    "  2.3007566928863525,\n",
    "  2.298985719680786,\n",
    "  2.3001739978790283,\n",
    "  2.298713207244873,\n",
    "  2.294557809829712,\n",
    "  2.293314218521118,\n",
    "  2.2928340435028076,\n",
    "  2.295558214187622,\n",
    "  2.2924935817718506,\n",
    "  2.2932448387145996,\n",
    "  2.2913436889648438,\n",
    "  2.2913832664489746,\n",
    "  2.2821907997131348,\n",
    "  2.284726142883301,\n",
    "  2.2772276401519775,\n",
    "  2.2643542289733887,\n",
    "  2.2722830772399902,\n",
    "  2.2618632316589355,\n",
    "  2.2663521766662598,\n",
    "  2.253303289413452,\n",
    "  2.2394728660583496,\n",
    "  2.238931655883789,\n",
    "  2.222933292388916,\n",
    "  2.207343101501465,\n",
    "  2.258585214614868,\n",
    "  2.201601982116699,\n",
    "  2.2439563274383545,\n",
    "  2.201796054840088,\n",
    "  2.15795636177063,\n",
    "  2.1523356437683105,\n",
    "  2.1179394721984863,\n",
    "  2.082789421081543,\n",
    "  2.0781619548797607,\n",
    "  2.3045718669891357,\n",
    "  2.28593373298645,\n",
    "  2.2581980228424072,\n",
    "  2.190247058868408,\n",
    "  2.249967575073242,\n",
    "  2.0971126556396484,\n",
    "  2.0062291622161865,\n",
    "  1.9929314851760864,\n",
    "  2.0936944484710693,\n",
    "  1.9494249820709229,\n",
    "  1.8810077905654907,\n",
    "  1.9242205619812012,\n",
    "  1.8638781309127808,\n",
    "  1.7865209579467773,\n",
    "  1.9194906949996948,\n",
    "  1.7297580242156982,\n",
    "  1.6443147659301758,\n",
    "  1.9422836303710938,\n",
    "  2.1592438220977783,\n",
    "  2.012373447418213,\n",
    "  1.7579797506332397,\n",
    "  1.6619956493377686,\n",
    "  1.579310655593872,\n",
    "  1.6545639038085938,\n",
    "  1.5547351837158203,\n",
    "  1.4524853229522705,\n",
    "  1.9497839212417603,\n",
    "  1.9452341794967651,\n",
    "  1.9497634172439575,\n",
    "  1.6748918294906616,\n",
    "  1.5026040077209473,\n",
    "  1.353031039237976,\n",
    "  1.3291347026824951,\n",
    "  1.25484037399292,\n",
    "  1.440677523612976,\n",
    "  1.3158560991287231,\n",
    "  1.2334985733032227,\n",
    "  1.1790199279785156,\n",
    "  1.420926809310913,\n",
    "  1.1463016271591187,\n",
    "  1.0834308862686157,\n",
    "  1.8734995126724243,\n",
    "  1.4823644161224365,\n",
    "  1.6103508472442627,\n",
    "  1.140376329421997,\n",
    "  1.036054253578186,\n",
    "  1.006953477859497,\n",
    "  0.997637152671814,\n",
    "  1.035748839378357,\n",
    "  1.1083489656448364,\n",
    "  1.0205765962600708,\n",
    "  0.9905422329902649,\n",
    "  0.9197331666946411,\n",
    "  0.9390596747398376,\n",
    "  0.8545984029769897,\n",
    "  0.8548481464385986,\n",
    "  0.8665569424629211,\n",
    "  0.8290330171585083,\n",
    "  0.8535390496253967],\n",
    " 'accuracy': [0.10819855332374573,\n",
    "  0.10262130200862885,\n",
    "  0.10819855332374573,\n",
    "  0.09760178625583649,\n",
    "  0.11321806907653809,\n",
    "  0.10931400209665298,\n",
    "  0.1193530410528183,\n",
    "  0.10987172275781631,\n",
    "  0.11489124596118927,\n",
    "  0.11991076171398163,\n",
    "  0.1193530410528183,\n",
    "  0.11210262030363083,\n",
    "  0.11656441539525986,\n",
    "  0.12158393859863281,\n",
    "  0.11600669473409653,\n",
    "  0.11879531294107437,\n",
    "  0.12381483614444733,\n",
    "  0.12437255680561066,\n",
    "  0.12102621048688889,\n",
    "  0.1154489666223526,\n",
    "  0.13552704453468323,\n",
    "  0.13273842632770538,\n",
    "  0.13050752878189087,\n",
    "  0.15504740178585052,\n",
    "  0.1505856066942215,\n",
    "  0.1583937555551529,\n",
    "  0.1388733983039856,\n",
    "  0.1583937555551529,\n",
    "  0.17735639214515686,\n",
    "  0.16341327130794525,\n",
    "  0.17177914083003998,\n",
    "  0.1818181872367859,\n",
    "  0.176240935921669,\n",
    "  0.19631901383399963,\n",
    "  0.18851087987422943,\n",
    "  0.1818181872367859,\n",
    "  0.20468488335609436,\n",
    "  0.20468488335609436,\n",
    "  0.2191857248544693,\n",
    "  0.2152816504240036,\n",
    "  0.24037925899028778,\n",
    "  0.1450083702802658,\n",
    "  0.1271611750125885,\n",
    "  0.16397099196910858,\n",
    "  0.199665367603302,\n",
    "  0.16731734573841095,\n",
    "  0.22922475636005402,\n",
    "  0.2660345733165741,\n",
    "  0.2643614113330841,\n",
    "  0.23145565390586853,\n",
    "  0.3034021258354187,\n",
    "  0.30284440517425537,\n",
    "  0.31790295243263245,\n",
    "  0.3195761442184448,\n",
    "  0.3535973131656647,\n",
    "  0.32571110129356384,\n",
    "  0.36698269844055176,\n",
    "  0.39598438143730164,\n",
    "  0.3329615294933319,\n",
    "  0.1974344700574875,\n",
    "  0.26324597001075745,\n",
    "  0.36307865381240845,\n",
    "  0.3742331266403198,\n",
    "  0.41606247425079346,\n",
    "  0.3931957483291626,\n",
    "  0.43558281660079956,\n",
    "  0.4634690582752228,\n",
    "  0.37869492173194885,\n",
    "  0.3089793622493744,\n",
    "  0.37479084730148315,\n",
    "  0.41606247425079346,\n",
    "  0.4891243577003479,\n",
    "  0.5181260704994202,\n",
    "  0.5153374075889587,\n",
    "  0.5527049899101257,\n",
    "  0.5186837911605835,\n",
    "  0.5482431650161743,\n",
    "  0.5705521702766418,\n",
    "  0.5744562149047852,\n",
    "  0.5041829347610474,\n",
    "  0.6001115441322327,\n",
    "  0.6051310896873474,\n",
    "  0.350808709859848,\n",
    "  0.5203569531440735,\n",
    "  0.450641393661499,\n",
    "  0.6001115441322327,\n",
    "  0.6279977560043335,\n",
    "  0.6469603776931763,\n",
    "  0.6542108058929443,\n",
    "  0.6263245940208435,\n",
    "  0.6319018602371216,\n",
    "  0.6363636255264282,\n",
    "  0.6480758786201477,\n",
    "  0.6793084144592285,\n",
    "  0.6715002655982971,\n",
    "  0.7055214643478394,\n",
    "  0.6965978741645813,\n",
    "  0.6971555948257446,\n",
    "  0.7233686447143555,\n",
    "  0.6954824328422546],\n",
    " 'val_loss': [2.3117504119873047,\n",
    "  2.295529842376709,\n",
    "  2.2930638790130615,\n",
    "  2.3018295764923096,\n",
    "  2.315221071243286,\n",
    "  2.305750846862793,\n",
    "  2.3022847175598145,\n",
    "  2.290461540222168,\n",
    "  2.3001959323883057,\n",
    "  2.2925519943237305,\n",
    "  2.294278621673584,\n",
    "  2.289424419403076,\n",
    "  2.291395664215088,\n",
    "  2.2892117500305176,\n",
    "  2.298950672149658,\n",
    "  2.2895302772521973,\n",
    "  2.2797904014587402,\n",
    "  2.274573564529419,\n",
    "  2.268775701522827,\n",
    "  2.2663216590881348,\n",
    "  2.260516881942749,\n",
    "  2.2601258754730225,\n",
    "  2.2327775955200195,\n",
    "  2.221834421157837,\n",
    "  2.2136905193328857,\n",
    "  2.189504623413086,\n",
    "  2.190242290496826,\n",
    "  2.1474037170410156,\n",
    "  2.1352717876434326,\n",
    "  2.112584114074707,\n",
    "  2.074176549911499,\n",
    "  2.047581434249878,\n",
    "  2.044334650039673,\n",
    "  2.0180606842041016,\n",
    "  2.1125004291534424,\n",
    "  2.049088954925537,\n",
    "  2.0020575523376465,\n",
    "  1.8632450103759766,\n",
    "  1.8501527309417725,\n",
    "  1.7862648963928223,\n",
    "  1.752921223640442,\n",
    "  2.283445358276367,\n",
    "  2.234009265899658,\n",
    "  2.1142940521240234,\n",
    "  2.271036386489868,\n",
    "  1.9693834781646729,\n",
    "  1.7619189023971558,\n",
    "  1.7086586952209473,\n",
    "  1.4741259813308716,\n",
    "  1.7992892265319824,\n",
    "  1.5042226314544678,\n",
    "  1.3308629989624023,\n",
    "  1.249316692352295,\n",
    "  1.1922492980957031,\n",
    "  2.5117533206939697,\n",
    "  1.70883047580719,\n",
    "  1.01026451587677,\n",
    "  1.075566053390503,\n",
    "  2.187572479248047,\n",
    "  1.8548033237457275,\n",
    "  1.321243405342102,\n",
    "  1.063166856765747,\n",
    "  0.8948644995689392,\n",
    "  0.8719474077224731,\n",
    "  0.7885288596153259,\n",
    "  1.2964619398117065,\n",
    "  0.6337472200393677,\n",
    "  1.7389307022094727,\n",
    "  1.2501674890518188,\n",
    "  1.416735291481018,\n",
    "  0.882928729057312,\n",
    "  0.7061488628387451,\n",
    "  0.6019383668899536,\n",
    "  0.6775381565093994,\n",
    "  9.334821701049805,\n",
    "  0.5419487953186035,\n",
    "  0.6479842066764832,\n",
    "  0.4723030924797058,\n",
    "  0.4795842468738556,\n",
    "  0.6171011924743652,\n",
    "  0.532192587852478,\n",
    "  0.4076594114303589,\n",
    "  0.5839046239852905,\n",
    "  0.456885427236557,\n",
    "  0.4336778223514557,\n",
    "  0.4040141701698303,\n",
    "  0.4401548504829407,\n",
    "  0.3698643147945404,\n",
    "  0.38164281845092773,\n",
    "  0.3456398546695709,\n",
    "  0.3351221978664398,\n",
    "  0.3040621280670166,\n",
    "  0.33465075492858887,\n",
    "  0.33619505167007446,\n",
    "  0.26880717277526855,\n",
    "  0.2457936704158783,\n",
    "  0.2577451169490814,\n",
    "  0.2678213119506836,\n",
    "  0.2568076550960541,\n",
    "  0.25144484639167786],\n",
    " 'val_accuracy': [0.10244988650083542,\n",
    "  0.1358574628829956,\n",
    "  0.11135857552289963,\n",
    "  0.08685968816280365,\n",
    "  0.08685968816280365,\n",
    "  0.1269487738609314,\n",
    "  0.1314031183719635,\n",
    "  0.10467705875635147,\n",
    "  0.09131403267383575,\n",
    "  0.10022271424531937,\n",
    "  0.11135857552289963,\n",
    "  0.1269487738609314,\n",
    "  0.09576837718486786,\n",
    "  0.09576837718486786,\n",
    "  0.10244988650083542,\n",
    "  0.13363029062747955,\n",
    "  0.11135857552289963,\n",
    "  0.1314031183719635,\n",
    "  0.13808463513851166,\n",
    "  0.15367482602596283,\n",
    "  0.1314031183719635,\n",
    "  0.11581292003393173,\n",
    "  0.1737193763256073,\n",
    "  0.17594654858112335,\n",
    "  0.18485523760318756,\n",
    "  0.20044542849063873,\n",
    "  0.17149220407009125,\n",
    "  0.2204899787902832,\n",
    "  0.2583518922328949,\n",
    "  0.24721603095531464,\n",
    "  0.2717149257659912,\n",
    "  0.2249443233013153,\n",
    "  0.2494432032108307,\n",
    "  0.24053451418876648,\n",
    "  0.1737193763256073,\n",
    "  0.2249443233013153,\n",
    "  0.24053451418876648,\n",
    "  0.320712685585022,\n",
    "  0.2828507721424103,\n",
    "  0.28953230381011963,\n",
    "  0.3318485617637634,\n",
    "  0.11135857552289963,\n",
    "  0.18040089309215546,\n",
    "  0.23385301232337952,\n",
    "  0.09131403267383575,\n",
    "  0.26057907938957214,\n",
    "  0.3697104752063751,\n",
    "  0.3741648197174072,\n",
    "  0.4699331820011139,\n",
    "  0.35857459902763367,\n",
    "  0.4454343020915985,\n",
    "  0.5412026643753052,\n",
    "  0.5545657277107239,\n",
    "  0.5434298515319824,\n",
    "  0.30289533734321594,\n",
    "  0.3986636996269226,\n",
    "  0.6080178022384644,\n",
    "  0.6080178022384644,\n",
    "  0.22717149555683136,\n",
    "  0.3095768392086029,\n",
    "  0.5412026643753052,\n",
    "  0.6035634875297546,\n",
    "  0.692650318145752,\n",
    "  0.6681514382362366,\n",
    "  0.7171491980552673,\n",
    "  0.5679287314414978,\n",
    "  0.781737208366394,\n",
    "  0.37193763256073,\n",
    "  0.5968819856643677,\n",
    "  0.5567928552627563,\n",
    "  0.7082405090332031,\n",
    "  0.7461024522781372,\n",
    "  0.795100212097168,\n",
    "  0.7728285193443298,\n",
    "  0.2761692702770233,\n",
    "  0.8017817139625549,\n",
    "  0.7728285193443298,\n",
    "  0.8262805938720703,\n",
    "  0.8129175901412964,\n",
    "  0.7706013321876526,\n",
    "  0.8062360882759094,\n",
    "  0.8374164700508118,\n",
    "  0.7795100212097168,\n",
    "  0.839643657207489,\n",
    "  0.8485523462295532,\n",
    "  0.8775055408477783,\n",
    "  0.8574610352516174,\n",
    "  0.8685969114303589,\n",
    "  0.839643657207489,\n",
    "  0.8708240389823914,\n",
    "  0.8819599151611328,\n",
    "  0.8953229188919067,\n",
    "  0.8819599151611328,\n",
    "  0.8953229188919067,\n",
    "  0.9109131693840027,\n",
    "  0.9198217988014221,\n",
    "  0.9220489859580994,\n",
    "  0.8997772932052612,\n",
    "  0.9175946712493896,\n",
    "  0.9086859822273254]}"
   ]
  }
 ],
 "metadata": {
  "kernelspec": {
   "display_name": "Python 3",
   "language": "python",
   "name": "python3"
  },
  "language_info": {
   "codemirror_mode": {
    "name": "ipython",
    "version": 3
   },
   "file_extension": ".py",
   "mimetype": "text/x-python",
   "name": "python",
   "nbconvert_exporter": "python",
   "pygments_lexer": "ipython3",
   "version": "3.6.13"
  },
  "toc": {
   "base_numbering": 1,
   "nav_menu": {},
   "number_sections": true,
   "sideBar": true,
   "skip_h1_title": false,
   "title_cell": "Table of Contents",
   "title_sidebar": "Contents",
   "toc_cell": false,
   "toc_position": {},
   "toc_section_display": true,
   "toc_window_display": false
  }
 },
 "nbformat": 4,
 "nbformat_minor": 4
}
