{
 "cells": [
  {
   "cell_type": "code",
   "execution_count": 49,
   "id": "94c0c0b2",
   "metadata": {},
   "outputs": [],
   "source": [
    "import os\n",
    "import cv2\n"
   ]
  },
  {
   "cell_type": "code",
   "execution_count": 50,
   "id": "ed6f044e",
   "metadata": {},
   "outputs": [],
   "source": [
    "image_list = []\n",
    "i = 0\n",
    "\n",
    "files = sorted(os.listdir('./data/umit_png_resize'))\n",
    "for i in range(len(files)):\n",
    "    img = cv2.imread('./data/umit_png_resize/'+files[i])\n",
    "    image_list.append(img)"
   ]
  },
  {
   "cell_type": "code",
   "execution_count": 51,
   "id": "dacc641c",
   "metadata": {},
   "outputs": [
    {
     "data": {
      "text/plain": [
       "87"
      ]
     },
     "execution_count": 51,
     "metadata": {},
     "output_type": "execute_result"
    }
   ],
   "source": [
    "len(image_list)"
   ]
  },
  {
   "cell_type": "code",
   "execution_count": 52,
   "id": "36fbdaff",
   "metadata": {},
   "outputs": [],
   "source": [
    "fourcc = cv2.VideoWriter_fourcc(*'X264')\n",
    "new_video = cv2.VideoWriter('umit.mp4',fourcc, 10, (640,480))"
   ]
  },
  {
   "cell_type": "code",
   "execution_count": 53,
   "id": "d800f7f5",
   "metadata": {},
   "outputs": [],
   "source": [
    "for i in range(len(image_list)):\n",
    "    new_video.write(image_list[i])\n",
    "new_video.release()"
   ]
  }
 ],
 "metadata": {
  "kernelspec": {
   "display_name": "Python 3",
   "language": "python",
   "name": "python3"
  },
  "language_info": {
   "codemirror_mode": {
    "name": "ipython",
    "version": 3
   },
   "file_extension": ".py",
   "mimetype": "text/x-python",
   "name": "python",
   "nbconvert_exporter": "python",
   "pygments_lexer": "ipython3",
   "version": "3.6.13"
  },
  "toc": {
   "base_numbering": 1,
   "nav_menu": {},
   "number_sections": true,
   "sideBar": true,
   "skip_h1_title": false,
   "title_cell": "Table of Contents",
   "title_sidebar": "Contents",
   "toc_cell": false,
   "toc_position": {},
   "toc_section_display": true,
   "toc_window_display": false
  }
 },
 "nbformat": 4,
 "nbformat_minor": 5
}
