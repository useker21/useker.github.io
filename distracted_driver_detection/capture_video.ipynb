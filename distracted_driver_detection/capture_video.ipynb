{
 "cells": [
  {
   "cell_type": "code",
   "execution_count": null,
   "id": "93b25764",
   "metadata": {},
   "outputs": [],
   "source": [
    "# Importing all necessary libraries\n",
    "import cv2\n",
    "import os\n",
    "\n",
    "# Read the video from specified path\n",
    "cam = cv2.VideoCapture('o. Actual Video High Res.mp4')\n",
    "\n",
    "try:\n",
    "\t\n",
    "\t# creating a folder named data\n",
    "\tif not os.path.exists('data/images'):\n",
    "\t\tos.makedirs('data/images')\n",
    "\n",
    "# if not created then raise error\n",
    "except OSError:\n",
    "\tprint ('Error: Creating directory of data')\n",
    "\n",
    "# frame\n",
    "currentframe = 0\n",
    "\n",
    "while(True):\n",
    "\t\n",
    "\t# reading from frame\n",
    "\tret,frame = cam.read()\n",
    "\n",
    "\tif ret:\n",
    "\t\t# if video is still left continue creating images\n",
    "\t\tname = './data/images/frame' + str(currentframe) + '.jpg'\n",
    "\t\tprint ('Creating...' + name)\n",
    "\n",
    "\t\t# writing the extracted images\n",
    "\t\tcv2.imwrite(name, frame)\n",
    "\n",
    "\t\t# increasing counter so that it will\n",
    "\t\t# show how many frames are created\n",
    "\t\tcurrentframe += 1\n",
    "\telse:\n",
    "\t\tbreak\n",
    "\n",
    "# Release all space and windows once done\n",
    "cam.release()\n",
    "cv2.destroyAllWindows()"
   ]
  }
 ],
 "metadata": {
  "kernelspec": {
   "display_name": "Python 3",
   "language": "python",
   "name": "python3"
  },
  "language_info": {
   "codemirror_mode": {
    "name": "ipython",
    "version": 3
   },
   "file_extension": ".py",
   "mimetype": "text/x-python",
   "name": "python",
   "nbconvert_exporter": "python",
   "pygments_lexer": "ipython3",
   "version": "3.6.13"
  },
  "toc": {
   "base_numbering": 1,
   "nav_menu": {},
   "number_sections": true,
   "sideBar": true,
   "skip_h1_title": false,
   "title_cell": "Table of Contents",
   "title_sidebar": "Contents",
   "toc_cell": false,
   "toc_position": {},
   "toc_section_display": true,
   "toc_window_display": false
  }
 },
 "nbformat": 4,
 "nbformat_minor": 5
}
